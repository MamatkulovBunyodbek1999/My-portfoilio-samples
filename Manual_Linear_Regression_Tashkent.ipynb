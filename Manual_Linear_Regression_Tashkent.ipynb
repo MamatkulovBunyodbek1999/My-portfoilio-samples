{
  "nbformat": 4,
  "nbformat_minor": 0,
  "metadata": {
    "colab": {
      "provenance": [],
      "authorship_tag": "ABX9TyMvngvTJfV0KUA94EYDeKZ7",
      "include_colab_link": true
    },
    "kernelspec": {
      "name": "python3",
      "display_name": "Python 3"
    },
    "language_info": {
      "name": "python"
    }
  },
  "cells": [
    {
      "cell_type": "markdown",
      "metadata": {
        "id": "view-in-github",
        "colab_type": "text"
      },
      "source": [
        "<a href=\"https://colab.research.google.com/github/MamatkulovBunyodbek1999/My-portfoilio-samples/blob/main/Manual_Linear_Regression_Tashkent.ipynb\" target=\"_parent\"><img src=\"https://colab.research.google.com/assets/colab-badge.svg\" alt=\"Open In Colab\"/></a>"
      ]
    },
    {
      "cell_type": "markdown",
      "source": [
        "![Imgur](https://i.imgur.com/5pXzCIu.png)\n",
        "\n",
        "# Data Science and Artificial intelligence Praktikum\n",
        "\n",
        "## 5-MODUL. Machine Learning. \n",
        "\n",
        "### Linear Regression"
      ],
      "metadata": {
        "id": "8SjpLcPTJRcY"
      }
    },
    {
      "cell_type": "code",
      "source": [
        "import pandas as pd \n",
        "import numpy as np\n",
        "df = pd.read_csv('https://raw.githubusercontent.com/anvarnarz/praktikum_datasets/main/housing_LR.csv', index_col=0)   # Importing data\n",
        "df.head(10)"
      ],
      "metadata": {
        "colab": {
          "base_uri": "https://localhost:8080/",
          "height": 363
        },
        "id": "yNteN0rcI_Vv",
        "outputId": "e367af46-781b-4b48-e4a7-037cdaadd7e6"
      },
      "execution_count": 102,
      "outputs": [
        {
          "output_type": "execute_result",
          "data": {
            "text/plain": [
              "        district  rooms  size  level  max_levels    price\n",
              "0   Юнусабадский      3  57.0      4           4  52000.0\n",
              "1  Яккасарайский      2  52.0      4           5  56000.0\n",
              "2   Чиланзарский      2  42.0      4           4  37000.0\n",
              "3   Чиланзарский      3  65.0      1           4  49500.0\n",
              "4   Чиланзарский      3  70.0      3           5  55000.0\n",
              "5   Чиланзарский      1  28.0      1           4  25500.0\n",
              "6   Чиланзарский      1  30.0      2           4  21200.0\n",
              "7  Яккасарайский      2  32.0      5           5  20000.0\n",
              "8    Учтепинский      2  51.0      3           4  26200.0\n",
              "9   Чиланзарский      1  30.0      1           4  22200.0"
            ],
            "text/html": [
              "\n",
              "  <div id=\"df-e92ac00d-1bf7-476c-8aa8-b8160fd005b7\">\n",
              "    <div class=\"colab-df-container\">\n",
              "      <div>\n",
              "<style scoped>\n",
              "    .dataframe tbody tr th:only-of-type {\n",
              "        vertical-align: middle;\n",
              "    }\n",
              "\n",
              "    .dataframe tbody tr th {\n",
              "        vertical-align: top;\n",
              "    }\n",
              "\n",
              "    .dataframe thead th {\n",
              "        text-align: right;\n",
              "    }\n",
              "</style>\n",
              "<table border=\"1\" class=\"dataframe\">\n",
              "  <thead>\n",
              "    <tr style=\"text-align: right;\">\n",
              "      <th></th>\n",
              "      <th>district</th>\n",
              "      <th>rooms</th>\n",
              "      <th>size</th>\n",
              "      <th>level</th>\n",
              "      <th>max_levels</th>\n",
              "      <th>price</th>\n",
              "    </tr>\n",
              "  </thead>\n",
              "  <tbody>\n",
              "    <tr>\n",
              "      <th>0</th>\n",
              "      <td>Юнусабадский</td>\n",
              "      <td>3</td>\n",
              "      <td>57.0</td>\n",
              "      <td>4</td>\n",
              "      <td>4</td>\n",
              "      <td>52000.0</td>\n",
              "    </tr>\n",
              "    <tr>\n",
              "      <th>1</th>\n",
              "      <td>Яккасарайский</td>\n",
              "      <td>2</td>\n",
              "      <td>52.0</td>\n",
              "      <td>4</td>\n",
              "      <td>5</td>\n",
              "      <td>56000.0</td>\n",
              "    </tr>\n",
              "    <tr>\n",
              "      <th>2</th>\n",
              "      <td>Чиланзарский</td>\n",
              "      <td>2</td>\n",
              "      <td>42.0</td>\n",
              "      <td>4</td>\n",
              "      <td>4</td>\n",
              "      <td>37000.0</td>\n",
              "    </tr>\n",
              "    <tr>\n",
              "      <th>3</th>\n",
              "      <td>Чиланзарский</td>\n",
              "      <td>3</td>\n",
              "      <td>65.0</td>\n",
              "      <td>1</td>\n",
              "      <td>4</td>\n",
              "      <td>49500.0</td>\n",
              "    </tr>\n",
              "    <tr>\n",
              "      <th>4</th>\n",
              "      <td>Чиланзарский</td>\n",
              "      <td>3</td>\n",
              "      <td>70.0</td>\n",
              "      <td>3</td>\n",
              "      <td>5</td>\n",
              "      <td>55000.0</td>\n",
              "    </tr>\n",
              "    <tr>\n",
              "      <th>5</th>\n",
              "      <td>Чиланзарский</td>\n",
              "      <td>1</td>\n",
              "      <td>28.0</td>\n",
              "      <td>1</td>\n",
              "      <td>4</td>\n",
              "      <td>25500.0</td>\n",
              "    </tr>\n",
              "    <tr>\n",
              "      <th>6</th>\n",
              "      <td>Чиланзарский</td>\n",
              "      <td>1</td>\n",
              "      <td>30.0</td>\n",
              "      <td>2</td>\n",
              "      <td>4</td>\n",
              "      <td>21200.0</td>\n",
              "    </tr>\n",
              "    <tr>\n",
              "      <th>7</th>\n",
              "      <td>Яккасарайский</td>\n",
              "      <td>2</td>\n",
              "      <td>32.0</td>\n",
              "      <td>5</td>\n",
              "      <td>5</td>\n",
              "      <td>20000.0</td>\n",
              "    </tr>\n",
              "    <tr>\n",
              "      <th>8</th>\n",
              "      <td>Учтепинский</td>\n",
              "      <td>2</td>\n",
              "      <td>51.0</td>\n",
              "      <td>3</td>\n",
              "      <td>4</td>\n",
              "      <td>26200.0</td>\n",
              "    </tr>\n",
              "    <tr>\n",
              "      <th>9</th>\n",
              "      <td>Чиланзарский</td>\n",
              "      <td>1</td>\n",
              "      <td>30.0</td>\n",
              "      <td>1</td>\n",
              "      <td>4</td>\n",
              "      <td>22200.0</td>\n",
              "    </tr>\n",
              "  </tbody>\n",
              "</table>\n",
              "</div>\n",
              "      <button class=\"colab-df-convert\" onclick=\"convertToInteractive('df-e92ac00d-1bf7-476c-8aa8-b8160fd005b7')\"\n",
              "              title=\"Convert this dataframe to an interactive table.\"\n",
              "              style=\"display:none;\">\n",
              "        \n",
              "  <svg xmlns=\"http://www.w3.org/2000/svg\" height=\"24px\"viewBox=\"0 0 24 24\"\n",
              "       width=\"24px\">\n",
              "    <path d=\"M0 0h24v24H0V0z\" fill=\"none\"/>\n",
              "    <path d=\"M18.56 5.44l.94 2.06.94-2.06 2.06-.94-2.06-.94-.94-2.06-.94 2.06-2.06.94zm-11 1L8.5 8.5l.94-2.06 2.06-.94-2.06-.94L8.5 2.5l-.94 2.06-2.06.94zm10 10l.94 2.06.94-2.06 2.06-.94-2.06-.94-.94-2.06-.94 2.06-2.06.94z\"/><path d=\"M17.41 7.96l-1.37-1.37c-.4-.4-.92-.59-1.43-.59-.52 0-1.04.2-1.43.59L10.3 9.45l-7.72 7.72c-.78.78-.78 2.05 0 2.83L4 21.41c.39.39.9.59 1.41.59.51 0 1.02-.2 1.41-.59l7.78-7.78 2.81-2.81c.8-.78.8-2.07 0-2.86zM5.41 20L4 18.59l7.72-7.72 1.47 1.35L5.41 20z\"/>\n",
              "  </svg>\n",
              "      </button>\n",
              "      \n",
              "  <style>\n",
              "    .colab-df-container {\n",
              "      display:flex;\n",
              "      flex-wrap:wrap;\n",
              "      gap: 12px;\n",
              "    }\n",
              "\n",
              "    .colab-df-convert {\n",
              "      background-color: #E8F0FE;\n",
              "      border: none;\n",
              "      border-radius: 50%;\n",
              "      cursor: pointer;\n",
              "      display: none;\n",
              "      fill: #1967D2;\n",
              "      height: 32px;\n",
              "      padding: 0 0 0 0;\n",
              "      width: 32px;\n",
              "    }\n",
              "\n",
              "    .colab-df-convert:hover {\n",
              "      background-color: #E2EBFA;\n",
              "      box-shadow: 0px 1px 2px rgba(60, 64, 67, 0.3), 0px 1px 3px 1px rgba(60, 64, 67, 0.15);\n",
              "      fill: #174EA6;\n",
              "    }\n",
              "\n",
              "    [theme=dark] .colab-df-convert {\n",
              "      background-color: #3B4455;\n",
              "      fill: #D2E3FC;\n",
              "    }\n",
              "\n",
              "    [theme=dark] .colab-df-convert:hover {\n",
              "      background-color: #434B5C;\n",
              "      box-shadow: 0px 1px 3px 1px rgba(0, 0, 0, 0.15);\n",
              "      filter: drop-shadow(0px 1px 2px rgba(0, 0, 0, 0.3));\n",
              "      fill: #FFFFFF;\n",
              "    }\n",
              "  </style>\n",
              "\n",
              "      <script>\n",
              "        const buttonEl =\n",
              "          document.querySelector('#df-e92ac00d-1bf7-476c-8aa8-b8160fd005b7 button.colab-df-convert');\n",
              "        buttonEl.style.display =\n",
              "          google.colab.kernel.accessAllowed ? 'block' : 'none';\n",
              "\n",
              "        async function convertToInteractive(key) {\n",
              "          const element = document.querySelector('#df-e92ac00d-1bf7-476c-8aa8-b8160fd005b7');\n",
              "          const dataTable =\n",
              "            await google.colab.kernel.invokeFunction('convertToInteractive',\n",
              "                                                     [key], {});\n",
              "          if (!dataTable) return;\n",
              "\n",
              "          const docLinkHtml = 'Like what you see? Visit the ' +\n",
              "            '<a target=\"_blank\" href=https://colab.research.google.com/notebooks/data_table.ipynb>data table notebook</a>'\n",
              "            + ' to learn more about interactive tables.';\n",
              "          element.innerHTML = '';\n",
              "          dataTable['output_type'] = 'display_data';\n",
              "          await google.colab.output.renderOutput(dataTable, element);\n",
              "          const docLink = document.createElement('div');\n",
              "          docLink.innerHTML = docLinkHtml;\n",
              "          element.appendChild(docLink);\n",
              "        }\n",
              "      </script>\n",
              "    </div>\n",
              "  </div>\n",
              "  "
            ]
          },
          "metadata": {},
          "execution_count": 102
        }
      ]
    },
    {
      "cell_type": "markdown",
      "source": [
        "#Value counts in district column"
      ],
      "metadata": {
        "id": "FUAgLURg8-HI"
      }
    },
    {
      "cell_type": "code",
      "source": [
        "df['district'].value_counts()"
      ],
      "metadata": {
        "colab": {
          "base_uri": "https://localhost:8080/"
        },
        "id": "g00Hfz1LJTy0",
        "outputId": "7de763ed-0d35-413b-c4eb-fac6e2c3923d"
      },
      "execution_count": 77,
      "outputs": [
        {
          "output_type": "execute_result",
          "data": {
            "text/plain": [
              "Чиланзарский         1616\n",
              "Мирзо-Улугбекский    1342\n",
              "Учтепинский           872\n",
              "Юнусабадский          847\n",
              "Мирабадский           717\n",
              "Яккасарайский         628\n",
              "Яшнободский           456\n",
              "Шайхантахурский       356\n",
              "Олмазорский           262\n",
              "Сергелийский          159\n",
              "Янгихаётский           15\n",
              "Бектемирский            8\n",
              "Name: district, dtype: int64"
            ]
          },
          "metadata": {},
          "execution_count": 77
        }
      ]
    },
    {
      "cell_type": "markdown",
      "source": [
        "# Separating a certain column from DataFrame"
      ],
      "metadata": {
        "id": "i8TISc249D_v"
      }
    },
    {
      "cell_type": "code",
      "source": [
        "housing = df[df.district=='Чиланзарский']\n",
        "housing.head()"
      ],
      "metadata": {
        "colab": {
          "base_uri": "https://localhost:8080/",
          "height": 206
        },
        "id": "CneUu90jK0_V",
        "outputId": "fdd05edf-a5b3-458c-f013-51d5af6879f8"
      },
      "execution_count": 78,
      "outputs": [
        {
          "output_type": "execute_result",
          "data": {
            "text/plain": [
              "       district  rooms  size  level  max_levels    price\n",
              "2  Чиланзарский      2  42.0      4           4  37000.0\n",
              "3  Чиланзарский      3  65.0      1           4  49500.0\n",
              "4  Чиланзарский      3  70.0      3           5  55000.0\n",
              "5  Чиланзарский      1  28.0      1           4  25500.0\n",
              "6  Чиланзарский      1  30.0      2           4  21200.0"
            ],
            "text/html": [
              "\n",
              "  <div id=\"df-ecf5a0e3-b1ad-4df5-87eb-c343bc47072b\">\n",
              "    <div class=\"colab-df-container\">\n",
              "      <div>\n",
              "<style scoped>\n",
              "    .dataframe tbody tr th:only-of-type {\n",
              "        vertical-align: middle;\n",
              "    }\n",
              "\n",
              "    .dataframe tbody tr th {\n",
              "        vertical-align: top;\n",
              "    }\n",
              "\n",
              "    .dataframe thead th {\n",
              "        text-align: right;\n",
              "    }\n",
              "</style>\n",
              "<table border=\"1\" class=\"dataframe\">\n",
              "  <thead>\n",
              "    <tr style=\"text-align: right;\">\n",
              "      <th></th>\n",
              "      <th>district</th>\n",
              "      <th>rooms</th>\n",
              "      <th>size</th>\n",
              "      <th>level</th>\n",
              "      <th>max_levels</th>\n",
              "      <th>price</th>\n",
              "    </tr>\n",
              "  </thead>\n",
              "  <tbody>\n",
              "    <tr>\n",
              "      <th>2</th>\n",
              "      <td>Чиланзарский</td>\n",
              "      <td>2</td>\n",
              "      <td>42.0</td>\n",
              "      <td>4</td>\n",
              "      <td>4</td>\n",
              "      <td>37000.0</td>\n",
              "    </tr>\n",
              "    <tr>\n",
              "      <th>3</th>\n",
              "      <td>Чиланзарский</td>\n",
              "      <td>3</td>\n",
              "      <td>65.0</td>\n",
              "      <td>1</td>\n",
              "      <td>4</td>\n",
              "      <td>49500.0</td>\n",
              "    </tr>\n",
              "    <tr>\n",
              "      <th>4</th>\n",
              "      <td>Чиланзарский</td>\n",
              "      <td>3</td>\n",
              "      <td>70.0</td>\n",
              "      <td>3</td>\n",
              "      <td>5</td>\n",
              "      <td>55000.0</td>\n",
              "    </tr>\n",
              "    <tr>\n",
              "      <th>5</th>\n",
              "      <td>Чиланзарский</td>\n",
              "      <td>1</td>\n",
              "      <td>28.0</td>\n",
              "      <td>1</td>\n",
              "      <td>4</td>\n",
              "      <td>25500.0</td>\n",
              "    </tr>\n",
              "    <tr>\n",
              "      <th>6</th>\n",
              "      <td>Чиланзарский</td>\n",
              "      <td>1</td>\n",
              "      <td>30.0</td>\n",
              "      <td>2</td>\n",
              "      <td>4</td>\n",
              "      <td>21200.0</td>\n",
              "    </tr>\n",
              "  </tbody>\n",
              "</table>\n",
              "</div>\n",
              "      <button class=\"colab-df-convert\" onclick=\"convertToInteractive('df-ecf5a0e3-b1ad-4df5-87eb-c343bc47072b')\"\n",
              "              title=\"Convert this dataframe to an interactive table.\"\n",
              "              style=\"display:none;\">\n",
              "        \n",
              "  <svg xmlns=\"http://www.w3.org/2000/svg\" height=\"24px\"viewBox=\"0 0 24 24\"\n",
              "       width=\"24px\">\n",
              "    <path d=\"M0 0h24v24H0V0z\" fill=\"none\"/>\n",
              "    <path d=\"M18.56 5.44l.94 2.06.94-2.06 2.06-.94-2.06-.94-.94-2.06-.94 2.06-2.06.94zm-11 1L8.5 8.5l.94-2.06 2.06-.94-2.06-.94L8.5 2.5l-.94 2.06-2.06.94zm10 10l.94 2.06.94-2.06 2.06-.94-2.06-.94-.94-2.06-.94 2.06-2.06.94z\"/><path d=\"M17.41 7.96l-1.37-1.37c-.4-.4-.92-.59-1.43-.59-.52 0-1.04.2-1.43.59L10.3 9.45l-7.72 7.72c-.78.78-.78 2.05 0 2.83L4 21.41c.39.39.9.59 1.41.59.51 0 1.02-.2 1.41-.59l7.78-7.78 2.81-2.81c.8-.78.8-2.07 0-2.86zM5.41 20L4 18.59l7.72-7.72 1.47 1.35L5.41 20z\"/>\n",
              "  </svg>\n",
              "      </button>\n",
              "      \n",
              "  <style>\n",
              "    .colab-df-container {\n",
              "      display:flex;\n",
              "      flex-wrap:wrap;\n",
              "      gap: 12px;\n",
              "    }\n",
              "\n",
              "    .colab-df-convert {\n",
              "      background-color: #E8F0FE;\n",
              "      border: none;\n",
              "      border-radius: 50%;\n",
              "      cursor: pointer;\n",
              "      display: none;\n",
              "      fill: #1967D2;\n",
              "      height: 32px;\n",
              "      padding: 0 0 0 0;\n",
              "      width: 32px;\n",
              "    }\n",
              "\n",
              "    .colab-df-convert:hover {\n",
              "      background-color: #E2EBFA;\n",
              "      box-shadow: 0px 1px 2px rgba(60, 64, 67, 0.3), 0px 1px 3px 1px rgba(60, 64, 67, 0.15);\n",
              "      fill: #174EA6;\n",
              "    }\n",
              "\n",
              "    [theme=dark] .colab-df-convert {\n",
              "      background-color: #3B4455;\n",
              "      fill: #D2E3FC;\n",
              "    }\n",
              "\n",
              "    [theme=dark] .colab-df-convert:hover {\n",
              "      background-color: #434B5C;\n",
              "      box-shadow: 0px 1px 3px 1px rgba(0, 0, 0, 0.15);\n",
              "      filter: drop-shadow(0px 1px 2px rgba(0, 0, 0, 0.3));\n",
              "      fill: #FFFFFF;\n",
              "    }\n",
              "  </style>\n",
              "\n",
              "      <script>\n",
              "        const buttonEl =\n",
              "          document.querySelector('#df-ecf5a0e3-b1ad-4df5-87eb-c343bc47072b button.colab-df-convert');\n",
              "        buttonEl.style.display =\n",
              "          google.colab.kernel.accessAllowed ? 'block' : 'none';\n",
              "\n",
              "        async function convertToInteractive(key) {\n",
              "          const element = document.querySelector('#df-ecf5a0e3-b1ad-4df5-87eb-c343bc47072b');\n",
              "          const dataTable =\n",
              "            await google.colab.kernel.invokeFunction('convertToInteractive',\n",
              "                                                     [key], {});\n",
              "          if (!dataTable) return;\n",
              "\n",
              "          const docLinkHtml = 'Like what you see? Visit the ' +\n",
              "            '<a target=\"_blank\" href=https://colab.research.google.com/notebooks/data_table.ipynb>data table notebook</a>'\n",
              "            + ' to learn more about interactive tables.';\n",
              "          element.innerHTML = '';\n",
              "          dataTable['output_type'] = 'display_data';\n",
              "          await google.colab.output.renderOutput(dataTable, element);\n",
              "          const docLink = document.createElement('div');\n",
              "          docLink.innerHTML = docLinkHtml;\n",
              "          element.appendChild(docLink);\n",
              "        }\n",
              "      </script>\n",
              "    </div>\n",
              "  </div>\n",
              "  "
            ]
          },
          "metadata": {},
          "execution_count": 78
        }
      ]
    },
    {
      "cell_type": "markdown",
      "source": [
        "#Creating a new variable and converting it into numpy array"
      ],
      "metadata": {
        "id": "6GJjwR0T9NVr"
      }
    },
    {
      "cell_type": "code",
      "source": [
        "X = housing['size'].to_numpy()\n",
        "X"
      ],
      "metadata": {
        "colab": {
          "base_uri": "https://localhost:8080/"
        },
        "id": "NbcL_gBrLWxX",
        "outputId": "426a49d7-a719-4250-8acc-c4d653903e18"
      },
      "execution_count": 79,
      "outputs": [
        {
          "output_type": "execute_result",
          "data": {
            "text/plain": [
              "array([42., 65., 70., ..., 32., 70., 30.])"
            ]
          },
          "metadata": {},
          "execution_count": 79
        }
      ]
    },
    {
      "cell_type": "code",
      "source": [
        "y = housing['price'].to_numpy()\n",
        "y"
      ],
      "metadata": {
        "colab": {
          "base_uri": "https://localhost:8080/"
        },
        "id": "1Cr9FDVxLaLs",
        "outputId": "40f57019-9c8d-4809-cd2c-63d1fb399aba"
      },
      "execution_count": 80,
      "outputs": [
        {
          "output_type": "execute_result",
          "data": {
            "text/plain": [
              "array([37000., 49500., 55000., ..., 28000., 49800., 22914.])"
            ]
          },
          "metadata": {},
          "execution_count": 80
        }
      ]
    },
    {
      "cell_type": "markdown",
      "source": [
        "# Let's have a look at our data by using visualization tools"
      ],
      "metadata": {
        "id": "sdVxvyqf9Vgl"
      }
    },
    {
      "cell_type": "code",
      "source": [
        "import matplotlib.pyplot as plt \n",
        "import seaborn as sns\n",
        "%matplotlib inline"
      ],
      "metadata": {
        "id": "veTf6ICRLkMa"
      },
      "execution_count": 103,
      "outputs": []
    },
    {
      "cell_type": "code",
      "source": [
        "plt.figure(figsize=(10,6))\n",
        "sns.scatterplot(data=housing, x='size', y='price')\n",
        "plt.show()"
      ],
      "metadata": {
        "colab": {
          "base_uri": "https://localhost:8080/",
          "height": 388
        },
        "id": "rfRgh0bfL7uN",
        "outputId": "b4970636-7402-4368-ad11-46cd4b44ccc3"
      },
      "execution_count": 104,
      "outputs": [
        {
          "output_type": "display_data",
          "data": {
            "text/plain": [
              "<Figure size 720x432 with 1 Axes>"
            ],
            "image/png": "[encoded data removed]"
          },
          "metadata": {
            "needs_background": "light"
          }
        }
      ]
    },
    {
      "cell_type": "code",
      "source": [
        "plt.figure(figsize=(10,6))\n",
        "sns.regplot(data=housing, x='size', y='price', line_kws={\"color\": \"red\"})\n",
        "plt.show()"
      ],
      "metadata": {
        "colab": {
          "base_uri": "https://localhost:8080/",
          "height": 388
        },
        "id": "ey0eB6qUMpTR",
        "outputId": "8fb06026-dfd1-41f3-c585-633523dfc9c8"
      },
      "execution_count": 105,
      "outputs": [
        {
          "output_type": "display_data",
          "data": {
            "text/plain": [
              "<Figure size 720x432 with 1 Axes>"
            ],
            "image/png": "[encoded data removed]"
          },
          "metadata": {
            "needs_background": "light"
          }
        }
      ]
    },
    {
      "cell_type": "code",
      "source": [
        "X"
      ],
      "metadata": {
        "colab": {
          "base_uri": "https://localhost:8080/"
        },
        "id": "gi5XMJjbpWwR",
        "outputId": "b20e2cac-9fde-4688-e9f3-cc3149aa9867"
      },
      "execution_count": 106,
      "outputs": [
        {
          "output_type": "execute_result",
          "data": {
            "text/plain": [
              "array([42., 65., 70., ..., 32., 70., 30.])"
            ]
          },
          "metadata": {},
          "execution_count": 106
        }
      ]
    },
    {
      "cell_type": "code",
      "source": [
        "y"
      ],
      "metadata": {
        "colab": {
          "base_uri": "https://localhost:8080/"
        },
        "id": "jV6F4uGJsVNE",
        "outputId": "a1d13c9c-1492-4850-c50b-909b478af773"
      },
      "execution_count": 107,
      "outputs": [
        {
          "output_type": "execute_result",
          "data": {
            "text/plain": [
              "array([37000., 49500., 55000., ..., 28000., 49800., 22914.])"
            ]
          },
          "metadata": {},
          "execution_count": 107
        }
      ]
    },
    {
      "cell_type": "markdown",
      "source": [
        "## 1-Task\n",
        "\n",
        "Our task is to calculate the coefficients $\\theta_0$ and $\\theta_1$ using the following formula from the above variables `X` and `y`.\n",
        "\n",
        "![Imgur](https://i.imgur.com/zZoXZxI.png)\n",
        "\n",
        "Here $\\tilde{x}$ is the average value for column `X`, $\\tilde{y}$ is the average value for column `y`"
      ],
      "metadata": {
        "id": "49Wf9XP5x8vB"
      }
    },
    {
      "cell_type": "code",
      "source": [
        "import numpy as np\n",
        "Xmean = np.mean(X)\n",
        "ymean = np.mean(y)"
      ],
      "metadata": {
        "id": "YXiTqzZDzGIX"
      },
      "execution_count": 108,
      "outputs": []
    },
    {
      "cell_type": "code",
      "source": [
        "theta1 = sum((X-Xmean)*(y-ymean))/sum((X-Xmean)**2)\n",
        "theta1"
      ],
      "metadata": {
        "colab": {
          "base_uri": "https://localhost:8080/"
        },
        "id": "tD0gEsPwsXBs",
        "outputId": "9c0a254b-1821-45cb-c0f5-dbbf0e71fc5d"
      },
      "execution_count": 109,
      "outputs": [
        {
          "output_type": "execute_result",
          "data": {
            "text/plain": [
              "740.0264822713287"
            ]
          },
          "metadata": {},
          "execution_count": 109
        }
      ]
    },
    {
      "cell_type": "code",
      "source": [
        "theta0 = ymean - theta1*Xmean\n",
        "theta0"
      ],
      "metadata": {
        "colab": {
          "base_uri": "https://localhost:8080/"
        },
        "id": "ystUA4kn3rIH",
        "outputId": "986a7880-2aef-43f4-e492-912771cb525d"
      },
      "execution_count": 110,
      "outputs": [
        {
          "output_type": "execute_result",
          "data": {
            "text/plain": [
              "-195.94911352690542"
            ]
          },
          "metadata": {},
          "execution_count": 110
        }
      ]
    },
    {
      "cell_type": "markdown",
      "source": [
        "## 2-Task\n",
        "\n",
        "Extract several random values ​​from ``X'' and calculate the corresponding ``y'' using the above coefficients.\n",
        "\n",
        "![Imgur](https://i.imgur.com/iT5tffj.png)"
      ],
      "metadata": {
        "id": "ILu2QQB55CbH"
      }
    },
    {
      "cell_type": "code",
      "source": [
        "x_test = housing.sample(10, random_state=42)['size'].to_numpy()\n",
        "y_test = housing.sample(10, random_state=42)['price'].to_numpy()\n",
        "print(x_test)\n",
        "print(y_test)"
      ],
      "metadata": {
        "colab": {
          "base_uri": "https://localhost:8080/"
        },
        "id": "zpVeywDe5Cvy",
        "outputId": "197ed627-5ce1-4a1e-8d48-d56c259cc2f8"
      },
      "execution_count": 111,
      "outputs": [
        {
          "output_type": "stream",
          "name": "stdout",
          "text": [
            "[54. 42. 36. 60. 48. 68. 38. 65. 52. 44.]\n",
            "[37500. 26500. 25500. 39000. 32500. 34500. 22700. 47000. 37900. 36000.]\n"
          ]
        }
      ]
    },
    {
      "cell_type": "code",
      "source": [
        "y_predict = theta0 + theta1*x_test\n",
        "y_predict"
      ],
      "metadata": {
        "colab": {
          "base_uri": "https://localhost:8080/"
        },
        "id": "dUvS36BV58am",
        "outputId": "2584e37f-41fd-4c59-ae32-dc8781bce99c"
      },
      "execution_count": 112,
      "outputs": [
        {
          "output_type": "execute_result",
          "data": {
            "text/plain": [
              "array([39765.48092912, 30885.16314187, 26445.00424824, 44205.63982275,\n",
              "       35325.3220355 , 50125.85168092, 27925.05721278, 47905.77223411,\n",
              "       38285.42796458, 32365.21610641])"
            ]
          },
          "metadata": {},
          "execution_count": 112
        }
      ]
    },
    {
      "cell_type": "markdown",
      "source": [
        "## 3-Task\n",
        "\n",
        "\n",
        "Calculate RMSE (root mean square error), MAE (mean absolute error) between calculated and original values.\n",
        "\n",
        "![Imgur](https://i.imgur.com/GJH9CGy.png)\n",
        "\n",
        "![Imgur](https://i.imgur.com/aXL9iWa.png)"
      ],
      "metadata": {
        "id": "NaocT9J06ncs"
      }
    },
    {
      "cell_type": "markdown",
      "source": [
        "# Calculatin MAE -> MEAN ABSOLUTE ERROR"
      ],
      "metadata": {
        "id": "pxf5cTBN-bCD"
      }
    },
    {
      "cell_type": "code",
      "source": [
        "#MAE\n",
        "MAE = np.sum(np.absolute(y_predict-y_test))/len(y_test)\n",
        "MAE"
      ],
      "metadata": {
        "colab": {
          "base_uri": "https://localhost:8080/"
        },
        "id": "sZzR4aMJ6i5q",
        "outputId": "73a12615-b108-4691-8176-38474ea6772a"
      },
      "execution_count": 113,
      "outputs": [
        {
          "output_type": "execute_result",
          "data": {
            "text/plain": [
              "4140.35031634715"
            ]
          },
          "metadata": {},
          "execution_count": 113
        }
      ]
    },
    {
      "cell_type": "markdown",
      "source": [
        "# CALCULATING ROOT MEAN SQUARE ERROR"
      ],
      "metadata": {
        "id": "KVvgWd_u-iph"
      }
    },
    {
      "cell_type": "code",
      "source": [
        "#RMSE\n",
        "RMSE = np.sqrt(np.sum((y_predict - y_test)**2)/len(y_test))\n",
        "RMSE"
      ],
      "metadata": {
        "colab": {
          "base_uri": "https://localhost:8080/"
        },
        "id": "jeCqG18p7hLO",
        "outputId": "b1763f33-1d1c-4f92-863d-8760b9f19f75"
      },
      "execution_count": 114,
      "outputs": [
        {
          "output_type": "execute_result",
          "data": {
            "text/plain": [
              "5882.051673173715"
            ]
          },
          "metadata": {},
          "execution_count": 114
        }
      ]
    },
    {
      "cell_type": "code",
      "source": [],
      "metadata": {
        "id": "_gjEH3d38VCl"
      },
      "execution_count": null,
      "outputs": []
    }
  ]
}