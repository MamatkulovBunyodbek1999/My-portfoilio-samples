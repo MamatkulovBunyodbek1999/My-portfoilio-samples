{
  "nbformat": 4,
  "nbformat_minor": 0,
  "metadata": {
    "colab": {
      "private_outputs": true,
      "provenance": [],
      "authorship_tag": "ABX9TyODx7snmYTjZFTpA8MmCoir",
      "include_colab_link": true
    },
    "kernelspec": {
      "name": "python3",
      "display_name": "Python 3"
    },
    "language_info": {
      "name": "python"
    },
    "accelerator": "GPU",
    "gpuClass": "standard"
  },
  "cells": [
    {
      "cell_type": "markdown",
      "metadata": {
        "id": "view-in-github",
        "colab_type": "text"
      },
      "source": [
        "<a href=\"https://colab.research.google.com/github/MamatkulovBunyodbek1999/My-portfoilio-samples/blob/main/Paris_Housing_price_prediction.ipynb\" target=\"_parent\"><img src=\"https://colab.research.google.com/assets/colab-badge.svg\" alt=\"Open In Colab\"/></a>"
      ]
    },
    {
      "cell_type": "markdown",
      "source": [
        "\n",
        "<img src=\"https://thumbs.dreamstime.com/b/hdr-paris-13404241.jpg\" width=\"1200\">"
      ],
      "metadata": {
        "id": "xyZHsWbparUa"
      }
    },
    {
      "cell_type": "markdown",
      "source": [
        "#This is a set of data created from imaginary data of house prices in an urban environment - Paris. I recommend using this dataset for educational purposes, for practice and to acquire the necessary knowledge.\n",
        "##Content\n",
        "####What's inside is more than just rows and columns. You can see house details listed as column names.\n",
        "\n",
        "##Description\n",
        "###All attributes are numeric variables and they are listed bellow:\n",
        "\n",
        "####numberOfRooms\n",
        "####hasYard\n",
        "####hasPool\n",
        "####floors - number of floors\n",
        "####cityCode - zip code\n",
        "####cityPartRange - the higher the range, the more exclusive the neighbourhood is\n",
        "####numPrevOwners - number of prevoious owners\n",
        "####made - year\n",
        "####isNewBuilt\n",
        "####hasStormProtector\n",
        "####basement - basement square meters\n",
        "####attic - attic square meteres\n",
        "####garage - garage size\n",
        "####hasStorageRoom\n",
        "####hasGuestRoom - number of guest rooms\n",
        "####price - predicted value"
      ],
      "metadata": {
        "id": "_VSE_ZAI9qcB"
      }
    },
    {
      "cell_type": "code",
      "execution_count": null,
      "metadata": {
        "id": "7Io6StQn8quT"
      },
      "outputs": [],
      "source": [
        "import pandas as pd\n",
        "import numpy as np\n",
        "import seaborn as sns\n",
        "import matplotlib.pyplot as plt"
      ]
    },
    {
      "cell_type": "code",
      "source": [
        "df=pd.read_csv(\"/content/ParisHousing.csv\")"
      ],
      "metadata": {
        "id": "P0LBxI3S8z6K"
      },
      "execution_count": null,
      "outputs": []
    },
    {
      "cell_type": "code",
      "source": [
        "df"
      ],
      "metadata": {
        "id": "C4wxDwoq9f1C"
      },
      "execution_count": null,
      "outputs": []
    },
    {
      "cell_type": "code",
      "source": [
        "df.isnull().value_counts()"
      ],
      "metadata": {
        "id": "u89uAKEu9gXL"
      },
      "execution_count": null,
      "outputs": []
    },
    {
      "cell_type": "code",
      "source": [
        "df.isnull().sum()"
      ],
      "metadata": {
        "id": "WlAfMIfY_Cmc"
      },
      "execution_count": null,
      "outputs": []
    },
    {
      "cell_type": "code",
      "source": [
        "df.corr()"
      ],
      "metadata": {
        "id": "YNG9FwY8BcUM"
      },
      "execution_count": null,
      "outputs": []
    },
    {
      "cell_type": "code",
      "source": [
        "df.duplicated().sum()"
      ],
      "metadata": {
        "id": "vrz9GV_IBmOo"
      },
      "execution_count": null,
      "outputs": []
    },
    {
      "cell_type": "code",
      "source": [
        "plt.figure(figsize=(14,8))\n",
        "sns.set_theme(style=\"white\")\n",
        "corr = df.corr()\n",
        "heatmap = sns.heatmap(corr, annot=True, cmap=\"Blues\", fmt='.1g')"
      ],
      "metadata": {
        "id": "q-xhcz_GDlih"
      },
      "execution_count": null,
      "outputs": []
    },
    {
      "cell_type": "code",
      "source": [
        "sns.set_theme(style=\"white\")\n",
        "corr = df.corr()\n",
        "mask = np.triu(df.corr())\n",
        "f, ax = plt.subplots(figsize=(10, 10))\n",
        "cmap = sns.color_palette(\"Blues\")\n",
        "\n",
        "sns.heatmap(corr, \n",
        "            mask=mask, \n",
        "            cmap=cmap, \n",
        "            vmax=.3, \n",
        "            center=0,\n",
        "            square=True, \n",
        "            linewidths=3, \n",
        "            cbar_kws={\"shrink\": .5}\n",
        "           )\n",
        "plt.show()"
      ],
      "metadata": {
        "id": "jJNu05sqGO46"
      },
      "execution_count": null,
      "outputs": []
    },
    {
      "cell_type": "code",
      "source": [
        "df.info()"
      ],
      "metadata": {
        "id": "m_TALXBcIT7d"
      },
      "execution_count": null,
      "outputs": []
    },
    {
      "cell_type": "code",
      "source": [
        "Correlation=list(['squareMeters','numPrevOwners','floors', 'price','numberOfRooms','cityPartRange'])\n",
        "df[Correlation].corr()"
      ],
      "metadata": {
        "id": "PhtSy4v5Is-y"
      },
      "execution_count": null,
      "outputs": []
    },
    {
      "cell_type": "code",
      "source": [
        "from sklearn.model_selection import train_test_split \n",
        "train_set , test_set = train_test_split(df, test_size=0.1, random_state=42)"
      ],
      "metadata": {
        "id": "Hpo5kMUCJCts"
      },
      "execution_count": null,
      "outputs": []
    },
    {
      "cell_type": "code",
      "source": [
        "from sklearn import linear_model\n",
        "LR_model = linear_model.LinearRegression()\n",
        "\n",
        "x_train = np.asanyarray(train_set[['squareMeters']])\n",
        "y_train = np.asanyarray(train_set[['price']])\n",
        "\n",
        "#Teaching our model\n",
        "LR_model.fit(x_train, y_train)\n",
        "\n",
        "#Separating Theta1 and Theta0 \n",
        "theta1 = LR_model.coef_[0][0]\n",
        "theta0 = LR_model.intercept_[0]\n",
        "print(theta1)\n",
        "theta0"
      ],
      "metadata": {
        "id": "548AY1olJEyJ"
      },
      "execution_count": null,
      "outputs": []
    },
    {
      "cell_type": "code",
      "source": [
        "import matplotlib.pyplot as plt\n",
        "import seaborn as sns\n",
        "plt.figure(figsize=(10,6))\n",
        "sns.scatterplot(data=df, x='squareMeters', y='price')\n",
        "plt.plot(x_train, theta1*x_train + theta0, '-r')\n",
        "plt.xlabel(\"squareMeters\")\n",
        "plt.ylabel(\"price\")"
      ],
      "metadata": {
        "id": "KXIRcXJeK_m4"
      },
      "execution_count": null,
      "outputs": []
    },
    {
      "cell_type": "code",
      "source": [
        "x_test = np.asanyarray(test_set[['squareMeters']])\n",
        "y_test = np.asanyarray(test_set[['price']])"
      ],
      "metadata": {
        "id": "ZEsypWH9LSSA"
      },
      "execution_count": null,
      "outputs": []
    },
    {
      "cell_type": "code",
      "source": [
        "y_predict = LR_model.predict(x_test)"
      ],
      "metadata": {
        "id": "aHaQGozZLkvz"
      },
      "execution_count": null,
      "outputs": []
    },
    {
      "cell_type": "code",
      "source": [
        "from sklearn.metrics import mean_absolute_error, mean_squared_error\n",
        "\n",
        "MAE = mean_absolute_error(y_test, y_predict)\n",
        "RMSE = np.sqrt(mean_squared_error(y_test, y_predict))\n",
        "print(MAE)\n",
        "print(RMSE)"
      ],
      "metadata": {
        "id": "uled2cG9Lqkc"
      },
      "execution_count": null,
      "outputs": []
    },
    {
      "cell_type": "code",
      "source": [
        "df['squareMeters'].describe()"
      ],
      "metadata": {
        "id": "_Ex9u49dLy7z"
      },
      "execution_count": null,
      "outputs": []
    },
    {
      "cell_type": "code",
      "source": [
        "lin_mse = mean_squared_error(y_test, y_predict)\n",
        "# RMSE \n",
        "lin_rmse = np.sqrt(lin_mse)\n",
        "print(lin_rmse)"
      ],
      "metadata": {
        "id": "hMNsNseXMHAZ"
      },
      "execution_count": null,
      "outputs": []
    },
    {
      "cell_type": "code",
      "source": [
        "X_test = test_set.drop('price', axis=1)\n",
        "X_test"
      ],
      "metadata": {
        "id": "DDrLXfT8Oxbe"
      },
      "execution_count": null,
      "outputs": []
    },
    {
      "cell_type": "code",
      "source": [
        "y_test = test_set['price'].copy() # Original prices of our data set.\n",
        "y_test"
      ],
      "metadata": {
        "id": "LS2nzMxHPKw2"
      },
      "execution_count": null,
      "outputs": []
    },
    {
      "cell_type": "code",
      "source": [
        "y_predict # Predicted prices from our ML model"
      ],
      "metadata": {
        "id": "5--cvBSAPU9_"
      },
      "execution_count": null,
      "outputs": []
    },
    {
      "cell_type": "code",
      "source": [
        "df1=pd.DataFrame(y_predict)\n",
        "df1"
      ],
      "metadata": {
        "id": "ASbXWPtMRl1K"
      },
      "execution_count": null,
      "outputs": []
    },
    {
      "cell_type": "code",
      "source": [
        "len(df1)"
      ],
      "metadata": {
        "id": "SWAf0TvkQfXT"
      },
      "execution_count": null,
      "outputs": []
    },
    {
      "cell_type": "code",
      "source": [
        "df2=pd.DataFrame(y_test)\n",
        "df2"
      ],
      "metadata": {
        "id": "ELP7anQiRved"
      },
      "execution_count": null,
      "outputs": []
    },
    {
      "cell_type": "code",
      "source": [
        "df2.reset_index(drop=True, inplace=True)"
      ],
      "metadata": {
        "id": "SUKO3cumVbV5"
      },
      "execution_count": null,
      "outputs": []
    },
    {
      "cell_type": "code",
      "source": [
        "df2"
      ],
      "metadata": {
        "id": "HPtqd-NKVgJu"
      },
      "execution_count": null,
      "outputs": []
    },
    {
      "cell_type": "code",
      "source": [
        "#df1.columns\n",
        "df1.columns.values[1]=\"Predicted\""
      ],
      "metadata": {
        "id": "c1fYLJEjVjVQ"
      },
      "execution_count": null,
      "outputs": []
    },
    {
      "cell_type": "code",
      "source": [
        "df1 = df1.div(100).round(2)"
      ],
      "metadata": {
        "id": "zRPKfhWAWq4V"
      },
      "execution_count": null,
      "outputs": []
    },
    {
      "cell_type": "code",
      "source": [
        "df1"
      ],
      "metadata": {
        "id": "6qJsrE7qZDpT"
      },
      "execution_count": null,
      "outputs": []
    },
    {
      "cell_type": "code",
      "source": [
        "df2 = df2.div(100).round(2)"
      ],
      "metadata": {
        "id": "I1ul7MJ8ZTdF"
      },
      "execution_count": null,
      "outputs": []
    },
    {
      "cell_type": "code",
      "source": [
        "df2"
      ],
      "metadata": {
        "id": "IzlZBXCoZdYZ"
      },
      "execution_count": null,
      "outputs": []
    },
    {
      "cell_type": "markdown",
      "source": [
        "#Putting 2 dataframes side by side"
      ],
      "metadata": {
        "id": "Z3CFDtUHeZ5k"
      }
    },
    {
      "cell_type": "code",
      "source": [
        "result = pd.concat([df1, df2], axis=1, join='inner')\n",
        "display(result)"
      ],
      "metadata": {
        "id": "Zh5WjyPaR5rL"
      },
      "execution_count": null,
      "outputs": []
    },
    {
      "cell_type": "code",
      "source": [
        "result.columns.values[0]=\"Predicted\""
      ],
      "metadata": {
        "id": "fuTfPqOMeoLF"
      },
      "execution_count": null,
      "outputs": []
    },
    {
      "cell_type": "code",
      "source": [
        "result.columns.values[1]=\"Real Price\""
      ],
      "metadata": {
        "id": "duGqNYWJesI0"
      },
      "execution_count": null,
      "outputs": []
    },
    {
      "cell_type": "code",
      "source": [
        "result.head()"
      ],
      "metadata": {
        "id": "LyjaxwGset2k"
      },
      "execution_count": null,
      "outputs": []
    },
    {
      "cell_type": "markdown",
      "source": [
        "# In short, our model is working(predicting) very good."
      ],
      "metadata": {
        "id": "ovMReXA8e_ls"
      }
    }
  ]
}