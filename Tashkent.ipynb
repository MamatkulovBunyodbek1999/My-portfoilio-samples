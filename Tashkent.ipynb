{
  "nbformat": 4,
  "nbformat_minor": 0,
  "metadata": {
    "colab": {
      "provenance": [],
      "collapsed_sections": [],
      "authorship_tag": "ABX9TyNzU0xz/wJOVNgwyf7RsV6n",
      "include_colab_link": true
    },
    "kernelspec": {
      "name": "python3",
      "display_name": "Python 3"
    },
    "language_info": {
      "name": "python"
    }
  },
  "cells": [
    {
      "cell_type": "markdown",
      "metadata": {
        "id": "view-in-github",
        "colab_type": "text"
      },
      "source": [
        "<a href=\"https://colab.research.google.com/github/MamatkulovBunyodbek1999/My-portfoilio-samples/blob/main/Tashkent.ipynb\" target=\"_parent\"><img src=\"https://colab.research.google.com/assets/colab-badge.svg\" alt=\"Open In Colab\"/></a>"
      ]
    },
    {
      "cell_type": "markdown",
      "source": [
        "![Imgur](https://i.imgur.com/5pXzCIu.png)\n",
        "\n",
        "# Data Science and Artificial intelligence  Practikum\n",
        "\n",
        "## 5-MODUL. Machine Learning. \n",
        "\n",
        "### Internship. Simple Linear Regression\n"
      ],
      "metadata": {
        "id": "602wEva6m9ht"
      }
    },
    {
      "cell_type": "markdown",
      "source": [
        "# Housing price prediction project"
      ],
      "metadata": {
        "id": "eoENB7jwnyvu"
      }
    },
    {
      "cell_type": "markdown",
      "source": [
        "![Imgur](https://assets.weforum.org/community/image/9hPlWcbYTih12mJwMxQ86V9WumxZtXJX89-sHyhfF2I.jpeg)"
      ],
      "metadata": {
        "id": "okUVhyo9nZUF"
      }
    },
    {
      "cell_type": "markdown",
      "source": [
        "# First of all i will Import python libraries. "
      ],
      "metadata": {
        "id": "V8cS4TgBn927"
      }
    },
    {
      "cell_type": "code",
      "execution_count": 1,
      "metadata": {
        "id": "wpWg_x6z2yGF"
      },
      "outputs": [],
      "source": [
        "import pandas as pd\n",
        "import numpy as np\n",
        "import matplotlib.pyplot as plt \n",
        "%matplotlib inline\n",
        "import seaborn as sns\n",
        "import sklearn # scikit-learn library"
      ]
    },
    {
      "cell_type": "markdown",
      "source": [
        "# Importing data"
      ],
      "metadata": {
        "id": "9R9kU9yXoIaM"
      }
    },
    {
      "cell_type": "code",
      "source": [
        "import pandas as pd\n",
        "df = pd.read_csv('https://raw.githubusercontent.com/anvarnarz/praktikum_datasets/main/housing_data_08-02-2021.csv')\n",
        "df.head(5)"
      ],
      "metadata": {
        "colab": {
          "base_uri": "https://localhost:8080/",
          "height": 206
        },
        "id": "a0UlmZxu21A6",
        "outputId": "634bfcc0-b2fb-4b9a-b8db-e3c515de8701"
      },
      "execution_count": 3,
      "outputs": [
        {
          "output_type": "execute_result",
          "data": {
            "text/plain": [
              "                                            location       district  rooms  \\\n",
              "0  город Ташкент, Юнусабадский район, Юнусабад 8-...   Юнусабадский      3   \n",
              "1  город Ташкент, Яккасарайский район, 1-й тупик ...  Яккасарайский      2   \n",
              "2  город Ташкент, Чиланзарский район, Чиланзар 2-...   Чиланзарский      2   \n",
              "3  город Ташкент, Чиланзарский район, Чиланзар 9-...   Чиланзарский      3   \n",
              "4  город Ташкент, Чиланзарский район, площадь Актепа   Чиланзарский      3   \n",
              "\n",
              "  size  level  max_levels  price  \n",
              "0   57      4           4  52000  \n",
              "1   52      4           5  56000  \n",
              "2   42      4           4  37000  \n",
              "3   65      1           4  49500  \n",
              "4   70      3           5  55000  "
            ],
            "text/html": [
              "\n",
              "  <div id=\"df-98b3e1aa-88ea-4d78-a99a-c8efa2c055f7\">\n",
              "    <div class=\"colab-df-container\">\n",
              "      <div>\n",
              "<style scoped>\n",
              "    .dataframe tbody tr th:only-of-type {\n",
              "        vertical-align: middle;\n",
              "    }\n",
              "\n",
              "    .dataframe tbody tr th {\n",
              "        vertical-align: top;\n",
              "    }\n",
              "\n",
              "    .dataframe thead th {\n",
              "        text-align: right;\n",
              "    }\n",
              "</style>\n",
              "<table border=\"1\" class=\"dataframe\">\n",
              "  <thead>\n",
              "    <tr style=\"text-align: right;\">\n",
              "      <th></th>\n",
              "      <th>location</th>\n",
              "      <th>district</th>\n",
              "      <th>rooms</th>\n",
              "      <th>size</th>\n",
              "      <th>level</th>\n",
              "      <th>max_levels</th>\n",
              "      <th>price</th>\n",
              "    </tr>\n",
              "  </thead>\n",
              "  <tbody>\n",
              "    <tr>\n",
              "      <th>0</th>\n",
              "      <td>город Ташкент, Юнусабадский район, Юнусабад 8-...</td>\n",
              "      <td>Юнусабадский</td>\n",
              "      <td>3</td>\n",
              "      <td>57</td>\n",
              "      <td>4</td>\n",
              "      <td>4</td>\n",
              "      <td>52000</td>\n",
              "    </tr>\n",
              "    <tr>\n",
              "      <th>1</th>\n",
              "      <td>город Ташкент, Яккасарайский район, 1-й тупик ...</td>\n",
              "      <td>Яккасарайский</td>\n",
              "      <td>2</td>\n",
              "      <td>52</td>\n",
              "      <td>4</td>\n",
              "      <td>5</td>\n",
              "      <td>56000</td>\n",
              "    </tr>\n",
              "    <tr>\n",
              "      <th>2</th>\n",
              "      <td>город Ташкент, Чиланзарский район, Чиланзар 2-...</td>\n",
              "      <td>Чиланзарский</td>\n",
              "      <td>2</td>\n",
              "      <td>42</td>\n",
              "      <td>4</td>\n",
              "      <td>4</td>\n",
              "      <td>37000</td>\n",
              "    </tr>\n",
              "    <tr>\n",
              "      <th>3</th>\n",
              "      <td>город Ташкент, Чиланзарский район, Чиланзар 9-...</td>\n",
              "      <td>Чиланзарский</td>\n",
              "      <td>3</td>\n",
              "      <td>65</td>\n",
              "      <td>1</td>\n",
              "      <td>4</td>\n",
              "      <td>49500</td>\n",
              "    </tr>\n",
              "    <tr>\n",
              "      <th>4</th>\n",
              "      <td>город Ташкент, Чиланзарский район, площадь Актепа</td>\n",
              "      <td>Чиланзарский</td>\n",
              "      <td>3</td>\n",
              "      <td>70</td>\n",
              "      <td>3</td>\n",
              "      <td>5</td>\n",
              "      <td>55000</td>\n",
              "    </tr>\n",
              "  </tbody>\n",
              "</table>\n",
              "</div>\n",
              "      <button class=\"colab-df-convert\" onclick=\"convertToInteractive('df-98b3e1aa-88ea-4d78-a99a-c8efa2c055f7')\"\n",
              "              title=\"Convert this dataframe to an interactive table.\"\n",
              "              style=\"display:none;\">\n",
              "        \n",
              "  <svg xmlns=\"http://www.w3.org/2000/svg\" height=\"24px\"viewBox=\"0 0 24 24\"\n",
              "       width=\"24px\">\n",
              "    <path d=\"M0 0h24v24H0V0z\" fill=\"none\"/>\n",
              "    <path d=\"M18.56 5.44l.94 2.06.94-2.06 2.06-.94-2.06-.94-.94-2.06-.94 2.06-2.06.94zm-11 1L8.5 8.5l.94-2.06 2.06-.94-2.06-.94L8.5 2.5l-.94 2.06-2.06.94zm10 10l.94 2.06.94-2.06 2.06-.94-2.06-.94-.94-2.06-.94 2.06-2.06.94z\"/><path d=\"M17.41 7.96l-1.37-1.37c-.4-.4-.92-.59-1.43-.59-.52 0-1.04.2-1.43.59L10.3 9.45l-7.72 7.72c-.78.78-.78 2.05 0 2.83L4 21.41c.39.39.9.59 1.41.59.51 0 1.02-.2 1.41-.59l7.78-7.78 2.81-2.81c.8-.78.8-2.07 0-2.86zM5.41 20L4 18.59l7.72-7.72 1.47 1.35L5.41 20z\"/>\n",
              "  </svg>\n",
              "      </button>\n",
              "      \n",
              "  <style>\n",
              "    .colab-df-container {\n",
              "      display:flex;\n",
              "      flex-wrap:wrap;\n",
              "      gap: 12px;\n",
              "    }\n",
              "\n",
              "    .colab-df-convert {\n",
              "      background-color: #E8F0FE;\n",
              "      border: none;\n",
              "      border-radius: 50%;\n",
              "      cursor: pointer;\n",
              "      display: none;\n",
              "      fill: #1967D2;\n",
              "      height: 32px;\n",
              "      padding: 0 0 0 0;\n",
              "      width: 32px;\n",
              "    }\n",
              "\n",
              "    .colab-df-convert:hover {\n",
              "      background-color: #E2EBFA;\n",
              "      box-shadow: 0px 1px 2px rgba(60, 64, 67, 0.3), 0px 1px 3px 1px rgba(60, 64, 67, 0.15);\n",
              "      fill: #174EA6;\n",
              "    }\n",
              "\n",
              "    [theme=dark] .colab-df-convert {\n",
              "      background-color: #3B4455;\n",
              "      fill: #D2E3FC;\n",
              "    }\n",
              "\n",
              "    [theme=dark] .colab-df-convert:hover {\n",
              "      background-color: #434B5C;\n",
              "      box-shadow: 0px 1px 3px 1px rgba(0, 0, 0, 0.15);\n",
              "      filter: drop-shadow(0px 1px 2px rgba(0, 0, 0, 0.3));\n",
              "      fill: #FFFFFF;\n",
              "    }\n",
              "  </style>\n",
              "\n",
              "      <script>\n",
              "        const buttonEl =\n",
              "          document.querySelector('#df-98b3e1aa-88ea-4d78-a99a-c8efa2c055f7 button.colab-df-convert');\n",
              "        buttonEl.style.display =\n",
              "          google.colab.kernel.accessAllowed ? 'block' : 'none';\n",
              "\n",
              "        async function convertToInteractive(key) {\n",
              "          const element = document.querySelector('#df-98b3e1aa-88ea-4d78-a99a-c8efa2c055f7');\n",
              "          const dataTable =\n",
              "            await google.colab.kernel.invokeFunction('convertToInteractive',\n",
              "                                                     [key], {});\n",
              "          if (!dataTable) return;\n",
              "\n",
              "          const docLinkHtml = 'Like what you see? Visit the ' +\n",
              "            '<a target=\"_blank\" href=https://colab.research.google.com/notebooks/data_table.ipynb>data table notebook</a>'\n",
              "            + ' to learn more about interactive tables.';\n",
              "          element.innerHTML = '';\n",
              "          dataTable['output_type'] = 'display_data';\n",
              "          await google.colab.output.renderOutput(dataTable, element);\n",
              "          const docLink = document.createElement('div');\n",
              "          docLink.innerHTML = docLinkHtml;\n",
              "          element.appendChild(docLink);\n",
              "        }\n",
              "      </script>\n",
              "    </div>\n",
              "  </div>\n",
              "  "
            ]
          },
          "metadata": {},
          "execution_count": 3
        }
      ]
    },
    {
      "cell_type": "markdown",
      "source": [
        "# Cleaning data "
      ],
      "metadata": {
        "id": "35Oz3TiaoLJN"
      }
    },
    {
      "cell_type": "code",
      "source": [
        "df = df[df.price !='Договорная']"
      ],
      "metadata": {
        "id": "c522_w-o231P"
      },
      "execution_count": 4,
      "outputs": []
    },
    {
      "cell_type": "code",
      "source": [
        "df['price'] = df['price'].astype('int')"
      ],
      "metadata": {
        "id": "LThRO33426sp"
      },
      "execution_count": 5,
      "outputs": []
    },
    {
      "cell_type": "code",
      "source": [
        "df[\"price\"].value_counts()"
      ],
      "metadata": {
        "colab": {
          "base_uri": "https://localhost:8080/"
        },
        "id": "Q1L4nt7029-_",
        "outputId": "70e923ca-755e-41d0-f7ba-a81e12b85bb2"
      },
      "execution_count": 6,
      "outputs": [
        {
          "output_type": "execute_result",
          "data": {
            "text/plain": [
              "35000     158\n",
              "45000     157\n",
              "55000     155\n",
              "42000     152\n",
              "40000     137\n",
              "         ... \n",
              "46200       1\n",
              "111000      1\n",
              "48499       1\n",
              "49994       1\n",
              "22914       1\n",
              "Name: price, Length: 716, dtype: int64"
            ]
          },
          "metadata": {},
          "execution_count": 6
        }
      ]
    },
    {
      "cell_type": "code",
      "source": [
        "df.loc[df['size'] == 'Площадьземли:1сот']"
      ],
      "metadata": {
        "colab": {
          "base_uri": "https://localhost:8080/",
          "height": 81
        },
        "id": "4jCKK-cR3Akg",
        "outputId": "0a19ef72-df83-40cc-ac24-aa70aaeacffc"
      },
      "execution_count": 7,
      "outputs": [
        {
          "output_type": "execute_result",
          "data": {
            "text/plain": [
              "                                      location     district  rooms  \\\n",
              "5347  город Ташкент, Яшнободский район, Дархон  Яшнободский      4   \n",
              "\n",
              "                   size  level  max_levels   price  \n",
              "5347  Площадьземли:1сот      3           5  150000  "
            ],
            "text/html": [
              "\n",
              "  <div id=\"df-de3bf58c-7002-48bd-a696-d0f9e797a221\">\n",
              "    <div class=\"colab-df-container\">\n",
              "      <div>\n",
              "<style scoped>\n",
              "    .dataframe tbody tr th:only-of-type {\n",
              "        vertical-align: middle;\n",
              "    }\n",
              "\n",
              "    .dataframe tbody tr th {\n",
              "        vertical-align: top;\n",
              "    }\n",
              "\n",
              "    .dataframe thead th {\n",
              "        text-align: right;\n",
              "    }\n",
              "</style>\n",
              "<table border=\"1\" class=\"dataframe\">\n",
              "  <thead>\n",
              "    <tr style=\"text-align: right;\">\n",
              "      <th></th>\n",
              "      <th>location</th>\n",
              "      <th>district</th>\n",
              "      <th>rooms</th>\n",
              "      <th>size</th>\n",
              "      <th>level</th>\n",
              "      <th>max_levels</th>\n",
              "      <th>price</th>\n",
              "    </tr>\n",
              "  </thead>\n",
              "  <tbody>\n",
              "    <tr>\n",
              "      <th>5347</th>\n",
              "      <td>город Ташкент, Яшнободский район, Дархон</td>\n",
              "      <td>Яшнободский</td>\n",
              "      <td>4</td>\n",
              "      <td>Площадьземли:1сот</td>\n",
              "      <td>3</td>\n",
              "      <td>5</td>\n",
              "      <td>150000</td>\n",
              "    </tr>\n",
              "  </tbody>\n",
              "</table>\n",
              "</div>\n",
              "      <button class=\"colab-df-convert\" onclick=\"convertToInteractive('df-de3bf58c-7002-48bd-a696-d0f9e797a221')\"\n",
              "              title=\"Convert this dataframe to an interactive table.\"\n",
              "              style=\"display:none;\">\n",
              "        \n",
              "  <svg xmlns=\"http://www.w3.org/2000/svg\" height=\"24px\"viewBox=\"0 0 24 24\"\n",
              "       width=\"24px\">\n",
              "    <path d=\"M0 0h24v24H0V0z\" fill=\"none\"/>\n",
              "    <path d=\"M18.56 5.44l.94 2.06.94-2.06 2.06-.94-2.06-.94-.94-2.06-.94 2.06-2.06.94zm-11 1L8.5 8.5l.94-2.06 2.06-.94-2.06-.94L8.5 2.5l-.94 2.06-2.06.94zm10 10l.94 2.06.94-2.06 2.06-.94-2.06-.94-.94-2.06-.94 2.06-2.06.94z\"/><path d=\"M17.41 7.96l-1.37-1.37c-.4-.4-.92-.59-1.43-.59-.52 0-1.04.2-1.43.59L10.3 9.45l-7.72 7.72c-.78.78-.78 2.05 0 2.83L4 21.41c.39.39.9.59 1.41.59.51 0 1.02-.2 1.41-.59l7.78-7.78 2.81-2.81c.8-.78.8-2.07 0-2.86zM5.41 20L4 18.59l7.72-7.72 1.47 1.35L5.41 20z\"/>\n",
              "  </svg>\n",
              "      </button>\n",
              "      \n",
              "  <style>\n",
              "    .colab-df-container {\n",
              "      display:flex;\n",
              "      flex-wrap:wrap;\n",
              "      gap: 12px;\n",
              "    }\n",
              "\n",
              "    .colab-df-convert {\n",
              "      background-color: #E8F0FE;\n",
              "      border: none;\n",
              "      border-radius: 50%;\n",
              "      cursor: pointer;\n",
              "      display: none;\n",
              "      fill: #1967D2;\n",
              "      height: 32px;\n",
              "      padding: 0 0 0 0;\n",
              "      width: 32px;\n",
              "    }\n",
              "\n",
              "    .colab-df-convert:hover {\n",
              "      background-color: #E2EBFA;\n",
              "      box-shadow: 0px 1px 2px rgba(60, 64, 67, 0.3), 0px 1px 3px 1px rgba(60, 64, 67, 0.15);\n",
              "      fill: #174EA6;\n",
              "    }\n",
              "\n",
              "    [theme=dark] .colab-df-convert {\n",
              "      background-color: #3B4455;\n",
              "      fill: #D2E3FC;\n",
              "    }\n",
              "\n",
              "    [theme=dark] .colab-df-convert:hover {\n",
              "      background-color: #434B5C;\n",
              "      box-shadow: 0px 1px 3px 1px rgba(0, 0, 0, 0.15);\n",
              "      filter: drop-shadow(0px 1px 2px rgba(0, 0, 0, 0.3));\n",
              "      fill: #FFFFFF;\n",
              "    }\n",
              "  </style>\n",
              "\n",
              "      <script>\n",
              "        const buttonEl =\n",
              "          document.querySelector('#df-de3bf58c-7002-48bd-a696-d0f9e797a221 button.colab-df-convert');\n",
              "        buttonEl.style.display =\n",
              "          google.colab.kernel.accessAllowed ? 'block' : 'none';\n",
              "\n",
              "        async function convertToInteractive(key) {\n",
              "          const element = document.querySelector('#df-de3bf58c-7002-48bd-a696-d0f9e797a221');\n",
              "          const dataTable =\n",
              "            await google.colab.kernel.invokeFunction('convertToInteractive',\n",
              "                                                     [key], {});\n",
              "          if (!dataTable) return;\n",
              "\n",
              "          const docLinkHtml = 'Like what you see? Visit the ' +\n",
              "            '<a target=\"_blank\" href=https://colab.research.google.com/notebooks/data_table.ipynb>data table notebook</a>'\n",
              "            + ' to learn more about interactive tables.';\n",
              "          element.innerHTML = '';\n",
              "          dataTable['output_type'] = 'display_data';\n",
              "          await google.colab.output.renderOutput(dataTable, element);\n",
              "          const docLink = document.createElement('div');\n",
              "          docLink.innerHTML = docLinkHtml;\n",
              "          element.appendChild(docLink);\n",
              "        }\n",
              "      </script>\n",
              "    </div>\n",
              "  </div>\n",
              "  "
            ]
          },
          "metadata": {},
          "execution_count": 7
        }
      ]
    },
    {
      "cell_type": "code",
      "source": [
        "df.drop(labels=5347, inplace=True)"
      ],
      "metadata": {
        "id": "yuLORAIM3DQm"
      },
      "execution_count": 8,
      "outputs": []
    },
    {
      "cell_type": "code",
      "source": [
        "df['size'] = df['size'].astype('float64')"
      ],
      "metadata": {
        "id": "XysxZOJe3F5Q"
      },
      "execution_count": 9,
      "outputs": []
    },
    {
      "cell_type": "code",
      "source": [
        "df[\"size\"].value_counts()"
      ],
      "metadata": {
        "colab": {
          "base_uri": "https://localhost:8080/"
        },
        "id": "6E_rOouR3IlU",
        "outputId": "9584c634-9e18-4296-efd5-d1e346cb9235"
      },
      "execution_count": 10,
      "outputs": [
        {
          "output_type": "execute_result",
          "data": {
            "text/plain": [
              "70.00     376\n",
              "60.00     374\n",
              "50.00     334\n",
              "65.00     255\n",
              "80.00     250\n",
              "         ... \n",
              "88.90       1\n",
              "49.88       1\n",
              "56.97       1\n",
              "129.18      1\n",
              "27.50       1\n",
              "Name: size, Length: 404, dtype: int64"
            ]
          },
          "metadata": {},
          "execution_count": 10
        }
      ]
    },
    {
      "cell_type": "code",
      "source": [
        "df.info()"
      ],
      "metadata": {
        "colab": {
          "base_uri": "https://localhost:8080/"
        },
        "id": "qB6HxfWW3Llo",
        "outputId": "3aba5efd-14c7-4908-90f9-a776ec48f7f5"
      },
      "execution_count": 11,
      "outputs": [
        {
          "output_type": "stream",
          "name": "stdout",
          "text": [
            "<class 'pandas.core.frame.DataFrame'>\n",
            "Int64Index: 7465 entries, 0 to 7564\n",
            "Data columns (total 7 columns):\n",
            " #   Column      Non-Null Count  Dtype  \n",
            "---  ------      --------------  -----  \n",
            " 0   location    7465 non-null   object \n",
            " 1   district    7465 non-null   object \n",
            " 2   rooms       7465 non-null   int64  \n",
            " 3   size        7465 non-null   float64\n",
            " 4   level       7465 non-null   int64  \n",
            " 5   max_levels  7465 non-null   int64  \n",
            " 6   price       7465 non-null   int64  \n",
            "dtypes: float64(1), int64(4), object(2)\n",
            "memory usage: 466.6+ KB\n"
          ]
        }
      ]
    },
    {
      "cell_type": "code",
      "source": [
        "df['size'] = df['size'].astype(np.int64)"
      ],
      "metadata": {
        "id": "HEgAXnHa3OnP"
      },
      "execution_count": 12,
      "outputs": []
    },
    {
      "cell_type": "code",
      "source": [
        "df.info()"
      ],
      "metadata": {
        "colab": {
          "base_uri": "https://localhost:8080/"
        },
        "id": "sD0y4MX03RoH",
        "outputId": "e7bb2e3a-4570-4fce-b582-9d41209c580e"
      },
      "execution_count": 13,
      "outputs": [
        {
          "output_type": "stream",
          "name": "stdout",
          "text": [
            "<class 'pandas.core.frame.DataFrame'>\n",
            "Int64Index: 7465 entries, 0 to 7564\n",
            "Data columns (total 7 columns):\n",
            " #   Column      Non-Null Count  Dtype \n",
            "---  ------      --------------  ----- \n",
            " 0   location    7465 non-null   object\n",
            " 1   district    7465 non-null   object\n",
            " 2   rooms       7465 non-null   int64 \n",
            " 3   size        7465 non-null   int64 \n",
            " 4   level       7465 non-null   int64 \n",
            " 5   max_levels  7465 non-null   int64 \n",
            " 6   price       7465 non-null   int64 \n",
            "dtypes: int64(5), object(2)\n",
            "memory usage: 466.6+ KB\n"
          ]
        }
      ]
    },
    {
      "cell_type": "code",
      "source": [
        "df.shape"
      ],
      "metadata": {
        "colab": {
          "base_uri": "https://localhost:8080/"
        },
        "id": "gqFVFTdS3U4u",
        "outputId": "a4e59092-00fc-4a1c-c152-1b049093891c"
      },
      "execution_count": 14,
      "outputs": [
        {
          "output_type": "execute_result",
          "data": {
            "text/plain": [
              "(7465, 7)"
            ]
          },
          "metadata": {},
          "execution_count": 14
        }
      ]
    },
    {
      "cell_type": "code",
      "source": [
        "df.head()"
      ],
      "metadata": {
        "colab": {
          "base_uri": "https://localhost:8080/",
          "height": 206
        },
        "id": "n_G0FZ2L3Xdg",
        "outputId": "891e257d-880b-48b5-830b-6aa3c864ffd0"
      },
      "execution_count": 15,
      "outputs": [
        {
          "output_type": "execute_result",
          "data": {
            "text/plain": [
              "                                            location       district  rooms  \\\n",
              "0  город Ташкент, Юнусабадский район, Юнусабад 8-...   Юнусабадский      3   \n",
              "1  город Ташкент, Яккасарайский район, 1-й тупик ...  Яккасарайский      2   \n",
              "2  город Ташкент, Чиланзарский район, Чиланзар 2-...   Чиланзарский      2   \n",
              "3  город Ташкент, Чиланзарский район, Чиланзар 9-...   Чиланзарский      3   \n",
              "4  город Ташкент, Чиланзарский район, площадь Актепа   Чиланзарский      3   \n",
              "\n",
              "   size  level  max_levels  price  \n",
              "0    57      4           4  52000  \n",
              "1    52      4           5  56000  \n",
              "2    42      4           4  37000  \n",
              "3    65      1           4  49500  \n",
              "4    70      3           5  55000  "
            ],
            "text/html": [
              "\n",
              "  <div id=\"df-cba7b0c4-3b6a-4fcc-8f46-9abc4b7c7c38\">\n",
              "    <div class=\"colab-df-container\">\n",
              "      <div>\n",
              "<style scoped>\n",
              "    .dataframe tbody tr th:only-of-type {\n",
              "        vertical-align: middle;\n",
              "    }\n",
              "\n",
              "    .dataframe tbody tr th {\n",
              "        vertical-align: top;\n",
              "    }\n",
              "\n",
              "    .dataframe thead th {\n",
              "        text-align: right;\n",
              "    }\n",
              "</style>\n",
              "<table border=\"1\" class=\"dataframe\">\n",
              "  <thead>\n",
              "    <tr style=\"text-align: right;\">\n",
              "      <th></th>\n",
              "      <th>location</th>\n",
              "      <th>district</th>\n",
              "      <th>rooms</th>\n",
              "      <th>size</th>\n",
              "      <th>level</th>\n",
              "      <th>max_levels</th>\n",
              "      <th>price</th>\n",
              "    </tr>\n",
              "  </thead>\n",
              "  <tbody>\n",
              "    <tr>\n",
              "      <th>0</th>\n",
              "      <td>город Ташкент, Юнусабадский район, Юнусабад 8-...</td>\n",
              "      <td>Юнусабадский</td>\n",
              "      <td>3</td>\n",
              "      <td>57</td>\n",
              "      <td>4</td>\n",
              "      <td>4</td>\n",
              "      <td>52000</td>\n",
              "    </tr>\n",
              "    <tr>\n",
              "      <th>1</th>\n",
              "      <td>город Ташкент, Яккасарайский район, 1-й тупик ...</td>\n",
              "      <td>Яккасарайский</td>\n",
              "      <td>2</td>\n",
              "      <td>52</td>\n",
              "      <td>4</td>\n",
              "      <td>5</td>\n",
              "      <td>56000</td>\n",
              "    </tr>\n",
              "    <tr>\n",
              "      <th>2</th>\n",
              "      <td>город Ташкент, Чиланзарский район, Чиланзар 2-...</td>\n",
              "      <td>Чиланзарский</td>\n",
              "      <td>2</td>\n",
              "      <td>42</td>\n",
              "      <td>4</td>\n",
              "      <td>4</td>\n",
              "      <td>37000</td>\n",
              "    </tr>\n",
              "    <tr>\n",
              "      <th>3</th>\n",
              "      <td>город Ташкент, Чиланзарский район, Чиланзар 9-...</td>\n",
              "      <td>Чиланзарский</td>\n",
              "      <td>3</td>\n",
              "      <td>65</td>\n",
              "      <td>1</td>\n",
              "      <td>4</td>\n",
              "      <td>49500</td>\n",
              "    </tr>\n",
              "    <tr>\n",
              "      <th>4</th>\n",
              "      <td>город Ташкент, Чиланзарский район, площадь Актепа</td>\n",
              "      <td>Чиланзарский</td>\n",
              "      <td>3</td>\n",
              "      <td>70</td>\n",
              "      <td>3</td>\n",
              "      <td>5</td>\n",
              "      <td>55000</td>\n",
              "    </tr>\n",
              "  </tbody>\n",
              "</table>\n",
              "</div>\n",
              "      <button class=\"colab-df-convert\" onclick=\"convertToInteractive('df-cba7b0c4-3b6a-4fcc-8f46-9abc4b7c7c38')\"\n",
              "              title=\"Convert this dataframe to an interactive table.\"\n",
              "              style=\"display:none;\">\n",
              "        \n",
              "  <svg xmlns=\"http://www.w3.org/2000/svg\" height=\"24px\"viewBox=\"0 0 24 24\"\n",
              "       width=\"24px\">\n",
              "    <path d=\"M0 0h24v24H0V0z\" fill=\"none\"/>\n",
              "    <path d=\"M18.56 5.44l.94 2.06.94-2.06 2.06-.94-2.06-.94-.94-2.06-.94 2.06-2.06.94zm-11 1L8.5 8.5l.94-2.06 2.06-.94-2.06-.94L8.5 2.5l-.94 2.06-2.06.94zm10 10l.94 2.06.94-2.06 2.06-.94-2.06-.94-.94-2.06-.94 2.06-2.06.94z\"/><path d=\"M17.41 7.96l-1.37-1.37c-.4-.4-.92-.59-1.43-.59-.52 0-1.04.2-1.43.59L10.3 9.45l-7.72 7.72c-.78.78-.78 2.05 0 2.83L4 21.41c.39.39.9.59 1.41.59.51 0 1.02-.2 1.41-.59l7.78-7.78 2.81-2.81c.8-.78.8-2.07 0-2.86zM5.41 20L4 18.59l7.72-7.72 1.47 1.35L5.41 20z\"/>\n",
              "  </svg>\n",
              "      </button>\n",
              "      \n",
              "  <style>\n",
              "    .colab-df-container {\n",
              "      display:flex;\n",
              "      flex-wrap:wrap;\n",
              "      gap: 12px;\n",
              "    }\n",
              "\n",
              "    .colab-df-convert {\n",
              "      background-color: #E8F0FE;\n",
              "      border: none;\n",
              "      border-radius: 50%;\n",
              "      cursor: pointer;\n",
              "      display: none;\n",
              "      fill: #1967D2;\n",
              "      height: 32px;\n",
              "      padding: 0 0 0 0;\n",
              "      width: 32px;\n",
              "    }\n",
              "\n",
              "    .colab-df-convert:hover {\n",
              "      background-color: #E2EBFA;\n",
              "      box-shadow: 0px 1px 2px rgba(60, 64, 67, 0.3), 0px 1px 3px 1px rgba(60, 64, 67, 0.15);\n",
              "      fill: #174EA6;\n",
              "    }\n",
              "\n",
              "    [theme=dark] .colab-df-convert {\n",
              "      background-color: #3B4455;\n",
              "      fill: #D2E3FC;\n",
              "    }\n",
              "\n",
              "    [theme=dark] .colab-df-convert:hover {\n",
              "      background-color: #434B5C;\n",
              "      box-shadow: 0px 1px 3px 1px rgba(0, 0, 0, 0.15);\n",
              "      filter: drop-shadow(0px 1px 2px rgba(0, 0, 0, 0.3));\n",
              "      fill: #FFFFFF;\n",
              "    }\n",
              "  </style>\n",
              "\n",
              "      <script>\n",
              "        const buttonEl =\n",
              "          document.querySelector('#df-cba7b0c4-3b6a-4fcc-8f46-9abc4b7c7c38 button.colab-df-convert');\n",
              "        buttonEl.style.display =\n",
              "          google.colab.kernel.accessAllowed ? 'block' : 'none';\n",
              "\n",
              "        async function convertToInteractive(key) {\n",
              "          const element = document.querySelector('#df-cba7b0c4-3b6a-4fcc-8f46-9abc4b7c7c38');\n",
              "          const dataTable =\n",
              "            await google.colab.kernel.invokeFunction('convertToInteractive',\n",
              "                                                     [key], {});\n",
              "          if (!dataTable) return;\n",
              "\n",
              "          const docLinkHtml = 'Like what you see? Visit the ' +\n",
              "            '<a target=\"_blank\" href=https://colab.research.google.com/notebooks/data_table.ipynb>data table notebook</a>'\n",
              "            + ' to learn more about interactive tables.';\n",
              "          element.innerHTML = '';\n",
              "          dataTable['output_type'] = 'display_data';\n",
              "          await google.colab.output.renderOutput(dataTable, element);\n",
              "          const docLink = document.createElement('div');\n",
              "          docLink.innerHTML = docLinkHtml;\n",
              "          element.appendChild(docLink);\n",
              "        }\n",
              "      </script>\n",
              "    </div>\n",
              "  </div>\n",
              "  "
            ]
          },
          "metadata": {},
          "execution_count": 15
        }
      ]
    },
    {
      "cell_type": "code",
      "source": [
        "df.isnull().sum()"
      ],
      "metadata": {
        "colab": {
          "base_uri": "https://localhost:8080/"
        },
        "id": "U0nXv_Rx3Z5d",
        "outputId": "400bffc8-c9fa-474d-9a35-751e7c9a7f33"
      },
      "execution_count": 16,
      "outputs": [
        {
          "output_type": "execute_result",
          "data": {
            "text/plain": [
              "location      0\n",
              "district      0\n",
              "rooms         0\n",
              "size          0\n",
              "level         0\n",
              "max_levels    0\n",
              "price         0\n",
              "dtype: int64"
            ]
          },
          "metadata": {},
          "execution_count": 16
        }
      ]
    },
    {
      "cell_type": "code",
      "source": [
        "df.shape"
      ],
      "metadata": {
        "colab": {
          "base_uri": "https://localhost:8080/"
        },
        "id": "Vje4CLhg7Z_5",
        "outputId": "719fcfd6-15c6-408f-9e20-800c19d2477f"
      },
      "execution_count": 17,
      "outputs": [
        {
          "output_type": "execute_result",
          "data": {
            "text/plain": [
              "(7465, 7)"
            ]
          },
          "metadata": {},
          "execution_count": 17
        }
      ]
    },
    {
      "cell_type": "code",
      "source": [
        "df=df.drop_duplicates()\n",
        "df.shape"
      ],
      "metadata": {
        "colab": {
          "base_uri": "https://localhost:8080/"
        },
        "id": "bktvWlT-6_12",
        "outputId": "8845a36e-d460-4761-dfb0-fbe940d40499"
      },
      "execution_count": 18,
      "outputs": [
        {
          "output_type": "execute_result",
          "data": {
            "text/plain": [
              "(6766, 7)"
            ]
          },
          "metadata": {},
          "execution_count": 18
        }
      ]
    },
    {
      "cell_type": "markdown",
      "source": [
        "#Starting point of our ML model with clean data"
      ],
      "metadata": {
        "id": "hdpiigpt3fFR"
      }
    },
    {
      "cell_type": "code",
      "source": [
        "from sklearn.model_selection import train_test_split\n",
        "train_set, test_set = train_test_split(df, test_size=0.2, random_state=42)\n",
        "\n",
        "X_train = train_set.drop(\"price\", axis=1)\n",
        "y = train_set[\"price\"].copy()\n",
        "\n",
        "X_num = X_train.drop(['location', 'district'], axis=1)"
      ],
      "metadata": {
        "id": "wgtphb543cVE"
      },
      "execution_count": 19,
      "outputs": []
    },
    {
      "cell_type": "markdown",
      "source": [
        "# Building Pipeline "
      ],
      "metadata": {
        "id": "-7R_oSJT3xkf"
      }
    },
    {
      "cell_type": "markdown",
      "source": [
        "###Pipeline for numeric columns "
      ],
      "metadata": {
        "id": "IS8KyxgI32G-"
      }
    },
    {
      "cell_type": "code",
      "source": [
        "from sklearn.pipeline import Pipeline\n",
        "from sklearn.impute import SimpleImputer\n",
        "from sklearn.preprocessing import OrdinalEncoder\n",
        "from sklearn.preprocessing import MinMaxScaler\n",
        "            \n"
      ],
      "metadata": {
        "id": "GbQ67GaG3j1r"
      },
      "execution_count": 20,
      "outputs": []
    },
    {
      "cell_type": "code",
      "source": [
        "num_pipeline = Pipeline([\n",
        "          ('imputer', SimpleImputer(strategy='median')),\n",
        "          ('min_max_scaler', MinMaxScaler())\n",
        "])"
      ],
      "metadata": {
        "id": "dnfJo5Hg8eLO"
      },
      "execution_count": 21,
      "outputs": []
    },
    {
      "cell_type": "markdown",
      "source": [
        "###Pipeline for string columns "
      ],
      "metadata": {
        "id": "azAHd06D4Ykf"
      }
    },
    {
      "cell_type": "code",
      "source": [
        "from sklearn.compose import ColumnTransformer\n",
        "\n",
        "num_attribs = list(X_num)\n",
        "cat_attribs = ['location', 'district']\n",
        "\n",
        "full_pipeline = ColumnTransformer([\n",
        "    ('num', num_pipeline, num_attribs),\n",
        "    ('cat', OrdinalEncoder(), cat_attribs)\n",
        "])"
      ],
      "metadata": {
        "id": "vco_YNTP4U5t"
      },
      "execution_count": 22,
      "outputs": []
    },
    {
      "cell_type": "code",
      "source": [
        "X_prepared = full_pipeline.fit_transform(X_train)"
      ],
      "metadata": {
        "id": "Av6DVhnV4li9"
      },
      "execution_count": 23,
      "outputs": []
    },
    {
      "cell_type": "code",
      "source": [
        "X_prepared[0:5,:]"
      ],
      "metadata": {
        "colab": {
          "base_uri": "https://localhost:8080/"
        },
        "id": "P3m2XFZl4pOS",
        "outputId": "f2b936ff-253f-4b85-c421-a9fdc9527776"
      },
      "execution_count": 24,
      "outputs": [
        {
          "output_type": "execute_result",
          "data": {
            "text/plain": [
              "array([[1.11111111e-01, 7.71439592e-04, 1.66666667e-01, 1.25000000e-01,\n",
              "        3.03000000e+02, 2.00000000e+00],\n",
              "       [2.22222222e-01, 9.85728368e-04, 1.11111111e-01, 1.25000000e-01,\n",
              "        4.29000000e+02, 3.00000000e+00],\n",
              "       [1.11111111e-01, 7.85725510e-04, 1.11111111e-01, 1.66666667e-01,\n",
              "        6.08000000e+02, 5.00000000e+00],\n",
              "       [0.00000000e+00, 4.14291633e-04, 1.11111111e-01, 1.66666667e-01,\n",
              "        7.82000000e+02, 6.00000000e+00],\n",
              "       [2.22222222e-01, 1.37144816e-03, 0.00000000e+00, 2.91666667e-01,\n",
              "        8.00000000e+02, 6.00000000e+00]])"
            ]
          },
          "metadata": {},
          "execution_count": 24
        }
      ]
    },
    {
      "cell_type": "markdown",
      "source": [
        "#Machine Learning"
      ],
      "metadata": {
        "id": "AWHzxazH5MS5"
      }
    },
    {
      "cell_type": "code",
      "source": [
        "from sklearn.linear_model import LinearRegression\n",
        "\n",
        "LR_model = LinearRegression()"
      ],
      "metadata": {
        "id": "1RuW_ZjG4rde"
      },
      "execution_count": 25,
      "outputs": []
    },
    {
      "cell_type": "code",
      "source": [
        "LR_model.fit(X_prepared, y)"
      ],
      "metadata": {
        "colab": {
          "base_uri": "https://localhost:8080/"
        },
        "id": "JULN7nQu5QEK",
        "outputId": "82b851c5-ce8c-4d1e-8d9c-a5f031e2bcc1"
      },
      "execution_count": 26,
      "outputs": [
        {
          "output_type": "execute_result",
          "data": {
            "text/plain": [
              "LinearRegression()"
            ]
          },
          "metadata": {},
          "execution_count": 26
        }
      ]
    },
    {
      "cell_type": "markdown",
      "source": [
        "# Testing ML model"
      ],
      "metadata": {
        "id": "Ai9Zosoa5ciC"
      }
    },
    {
      "cell_type": "code",
      "source": [
        "test_data = X_train.sample(5)\n",
        "test_data"
      ],
      "metadata": {
        "colab": {
          "base_uri": "https://localhost:8080/",
          "height": 206
        },
        "id": "giGnhrEM5Tdw",
        "outputId": "db379913-c825-4330-db76-541b569d8032"
      },
      "execution_count": 27,
      "outputs": [
        {
          "output_type": "execute_result",
          "data": {
            "text/plain": [
              "                                               location       district  rooms  \\\n",
              "1623    город Ташкент, Олмазорский район, Каракамыш-2/3    Олмазорский      2   \n",
              "1906          город Ташкент, Яккасарайский район, Ракат  Яккасарайский      2   \n",
              "3024       город Ташкент, Чиланзарский район, Наккошлык   Чиланзарский      3   \n",
              "4793     город Ташкент, Чиланзарский район, Сугалли-ота   Чиланзарский      3   \n",
              "5115  город Ташкент, Яккасарайский район, Шота Руста...  Яккасарайский      3   \n",
              "\n",
              "      size  level  max_levels  \n",
              "1623    56      4           4  \n",
              "1906    36      1           4  \n",
              "3024    60      4           5  \n",
              "4793    59      3           5  \n",
              "5115    70      3           4  "
            ],
            "text/html": [
              "\n",
              "  <div id=\"df-9b493233-7ac1-479d-94b7-cc59d6dfb28c\">\n",
              "    <div class=\"colab-df-container\">\n",
              "      <div>\n",
              "<style scoped>\n",
              "    .dataframe tbody tr th:only-of-type {\n",
              "        vertical-align: middle;\n",
              "    }\n",
              "\n",
              "    .dataframe tbody tr th {\n",
              "        vertical-align: top;\n",
              "    }\n",
              "\n",
              "    .dataframe thead th {\n",
              "        text-align: right;\n",
              "    }\n",
              "</style>\n",
              "<table border=\"1\" class=\"dataframe\">\n",
              "  <thead>\n",
              "    <tr style=\"text-align: right;\">\n",
              "      <th></th>\n",
              "      <th>location</th>\n",
              "      <th>district</th>\n",
              "      <th>rooms</th>\n",
              "      <th>size</th>\n",
              "      <th>level</th>\n",
              "      <th>max_levels</th>\n",
              "    </tr>\n",
              "  </thead>\n",
              "  <tbody>\n",
              "    <tr>\n",
              "      <th>1623</th>\n",
              "      <td>город Ташкент, Олмазорский район, Каракамыш-2/3</td>\n",
              "      <td>Олмазорский</td>\n",
              "      <td>2</td>\n",
              "      <td>56</td>\n",
              "      <td>4</td>\n",
              "      <td>4</td>\n",
              "    </tr>\n",
              "    <tr>\n",
              "      <th>1906</th>\n",
              "      <td>город Ташкент, Яккасарайский район, Ракат</td>\n",
              "      <td>Яккасарайский</td>\n",
              "      <td>2</td>\n",
              "      <td>36</td>\n",
              "      <td>1</td>\n",
              "      <td>4</td>\n",
              "    </tr>\n",
              "    <tr>\n",
              "      <th>3024</th>\n",
              "      <td>город Ташкент, Чиланзарский район, Наккошлык</td>\n",
              "      <td>Чиланзарский</td>\n",
              "      <td>3</td>\n",
              "      <td>60</td>\n",
              "      <td>4</td>\n",
              "      <td>5</td>\n",
              "    </tr>\n",
              "    <tr>\n",
              "      <th>4793</th>\n",
              "      <td>город Ташкент, Чиланзарский район, Сугалли-ота</td>\n",
              "      <td>Чиланзарский</td>\n",
              "      <td>3</td>\n",
              "      <td>59</td>\n",
              "      <td>3</td>\n",
              "      <td>5</td>\n",
              "    </tr>\n",
              "    <tr>\n",
              "      <th>5115</th>\n",
              "      <td>город Ташкент, Яккасарайский район, Шота Руста...</td>\n",
              "      <td>Яккасарайский</td>\n",
              "      <td>3</td>\n",
              "      <td>70</td>\n",
              "      <td>3</td>\n",
              "      <td>4</td>\n",
              "    </tr>\n",
              "  </tbody>\n",
              "</table>\n",
              "</div>\n",
              "      <button class=\"colab-df-convert\" onclick=\"convertToInteractive('df-9b493233-7ac1-479d-94b7-cc59d6dfb28c')\"\n",
              "              title=\"Convert this dataframe to an interactive table.\"\n",
              "              style=\"display:none;\">\n",
              "        \n",
              "  <svg xmlns=\"http://www.w3.org/2000/svg\" height=\"24px\"viewBox=\"0 0 24 24\"\n",
              "       width=\"24px\">\n",
              "    <path d=\"M0 0h24v24H0V0z\" fill=\"none\"/>\n",
              "    <path d=\"M18.56 5.44l.94 2.06.94-2.06 2.06-.94-2.06-.94-.94-2.06-.94 2.06-2.06.94zm-11 1L8.5 8.5l.94-2.06 2.06-.94-2.06-.94L8.5 2.5l-.94 2.06-2.06.94zm10 10l.94 2.06.94-2.06 2.06-.94-2.06-.94-.94-2.06-.94 2.06-2.06.94z\"/><path d=\"M17.41 7.96l-1.37-1.37c-.4-.4-.92-.59-1.43-.59-.52 0-1.04.2-1.43.59L10.3 9.45l-7.72 7.72c-.78.78-.78 2.05 0 2.83L4 21.41c.39.39.9.59 1.41.59.51 0 1.02-.2 1.41-.59l7.78-7.78 2.81-2.81c.8-.78.8-2.07 0-2.86zM5.41 20L4 18.59l7.72-7.72 1.47 1.35L5.41 20z\"/>\n",
              "  </svg>\n",
              "      </button>\n",
              "      \n",
              "  <style>\n",
              "    .colab-df-container {\n",
              "      display:flex;\n",
              "      flex-wrap:wrap;\n",
              "      gap: 12px;\n",
              "    }\n",
              "\n",
              "    .colab-df-convert {\n",
              "      background-color: #E8F0FE;\n",
              "      border: none;\n",
              "      border-radius: 50%;\n",
              "      cursor: pointer;\n",
              "      display: none;\n",
              "      fill: #1967D2;\n",
              "      height: 32px;\n",
              "      padding: 0 0 0 0;\n",
              "      width: 32px;\n",
              "    }\n",
              "\n",
              "    .colab-df-convert:hover {\n",
              "      background-color: #E2EBFA;\n",
              "      box-shadow: 0px 1px 2px rgba(60, 64, 67, 0.3), 0px 1px 3px 1px rgba(60, 64, 67, 0.15);\n",
              "      fill: #174EA6;\n",
              "    }\n",
              "\n",
              "    [theme=dark] .colab-df-convert {\n",
              "      background-color: #3B4455;\n",
              "      fill: #D2E3FC;\n",
              "    }\n",
              "\n",
              "    [theme=dark] .colab-df-convert:hover {\n",
              "      background-color: #434B5C;\n",
              "      box-shadow: 0px 1px 3px 1px rgba(0, 0, 0, 0.15);\n",
              "      filter: drop-shadow(0px 1px 2px rgba(0, 0, 0, 0.3));\n",
              "      fill: #FFFFFF;\n",
              "    }\n",
              "  </style>\n",
              "\n",
              "      <script>\n",
              "        const buttonEl =\n",
              "          document.querySelector('#df-9b493233-7ac1-479d-94b7-cc59d6dfb28c button.colab-df-convert');\n",
              "        buttonEl.style.display =\n",
              "          google.colab.kernel.accessAllowed ? 'block' : 'none';\n",
              "\n",
              "        async function convertToInteractive(key) {\n",
              "          const element = document.querySelector('#df-9b493233-7ac1-479d-94b7-cc59d6dfb28c');\n",
              "          const dataTable =\n",
              "            await google.colab.kernel.invokeFunction('convertToInteractive',\n",
              "                                                     [key], {});\n",
              "          if (!dataTable) return;\n",
              "\n",
              "          const docLinkHtml = 'Like what you see? Visit the ' +\n",
              "            '<a target=\"_blank\" href=https://colab.research.google.com/notebooks/data_table.ipynb>data table notebook</a>'\n",
              "            + ' to learn more about interactive tables.';\n",
              "          element.innerHTML = '';\n",
              "          dataTable['output_type'] = 'display_data';\n",
              "          await google.colab.output.renderOutput(dataTable, element);\n",
              "          const docLink = document.createElement('div');\n",
              "          docLink.innerHTML = docLinkHtml;\n",
              "          element.appendChild(docLink);\n",
              "        }\n",
              "      </script>\n",
              "    </div>\n",
              "  </div>\n",
              "  "
            ]
          },
          "metadata": {},
          "execution_count": 27
        }
      ]
    },
    {
      "cell_type": "code",
      "source": [
        "test_label = y.loc[test_data.index]\n",
        "test_label"
      ],
      "metadata": {
        "colab": {
          "base_uri": "https://localhost:8080/"
        },
        "id": "4TB44o135gp7",
        "outputId": "ebd70bc5-bbdd-4652-9cf1-049f2f1cf2f5"
      },
      "execution_count": 28,
      "outputs": [
        {
          "output_type": "execute_result",
          "data": {
            "text/plain": [
              "1623    32200\n",
              "1906    30000\n",
              "3024    47000\n",
              "4793    49500\n",
              "5115    68000\n",
              "Name: price, dtype: int64"
            ]
          },
          "metadata": {},
          "execution_count": 28
        }
      ]
    },
    {
      "cell_type": "code",
      "source": [
        "test_data_prepared = full_pipeline.transform(test_data)\n",
        "test_data_prepared"
      ],
      "metadata": {
        "colab": {
          "base_uri": "https://localhost:8080/"
        },
        "id": "t_mGKfnC5kox",
        "outputId": "2ea7da44-a759-4338-9eb9-f086e0d3150e"
      },
      "execution_count": 29,
      "outputs": [
        {
          "output_type": "execute_result",
          "data": {
            "text/plain": [
              "array([[1.11111111e-01, 7.85725510e-04, 1.66666667e-01, 1.25000000e-01,\n",
              "        4.29000000e+02, 3.00000000e+00],\n",
              "       [1.11111111e-01, 5.00007143e-04, 0.00000000e+00, 1.25000000e-01,\n",
              "        1.14100000e+03, 9.00000000e+00],\n",
              "       [2.22222222e-01, 8.42869184e-04, 1.66666667e-01, 1.66666667e-01,\n",
              "        6.97000000e+02, 6.00000000e+00],\n",
              "       [2.22222222e-01, 8.28583265e-04, 1.11111111e-01, 1.66666667e-01,\n",
              "        7.10000000e+02, 6.00000000e+00],\n",
              "       [2.22222222e-01, 9.85728368e-04, 1.11111111e-01, 1.25000000e-01,\n",
              "        1.17600000e+03, 9.00000000e+00]])"
            ]
          },
          "metadata": {},
          "execution_count": 29
        }
      ]
    },
    {
      "cell_type": "code",
      "source": [
        "predicted_data = LR_model.predict(test_data_prepared)\n",
        "predicted_data"
      ],
      "metadata": {
        "colab": {
          "base_uri": "https://localhost:8080/"
        },
        "id": "EVKAD5405n1k",
        "outputId": "4898e3ed-26bc-498d-ca40-8528b876c1ec"
      },
      "execution_count": 30,
      "outputs": [
        {
          "output_type": "execute_result",
          "data": {
            "text/plain": [
              "array([30616.30618871, 56563.18097664, 95448.30070532, 98119.27427646,\n",
              "       71381.45136588])"
            ]
          },
          "metadata": {},
          "execution_count": 30
        }
      ]
    },
    {
      "cell_type": "code",
      "source": [
        "pd.DataFrame({'Predicted price':predicted_data, 'Real price': test_label})"
      ],
      "metadata": {
        "colab": {
          "base_uri": "https://localhost:8080/",
          "height": 206
        },
        "id": "oS1XBRvz5s0s",
        "outputId": "3b821b0f-ea7e-41f5-8c62-f525c3eba8e3"
      },
      "execution_count": 32,
      "outputs": [
        {
          "output_type": "execute_result",
          "data": {
            "text/plain": [
              "      Predicted price  Real price\n",
              "1623     30616.306189       32200\n",
              "1906     56563.180977       30000\n",
              "3024     95448.300705       47000\n",
              "4793     98119.274276       49500\n",
              "5115     71381.451366       68000"
            ],
            "text/html": [
              "\n",
              "  <div id=\"df-c109585f-ec1b-41d5-8a6c-2bd3c135733c\">\n",
              "    <div class=\"colab-df-container\">\n",
              "      <div>\n",
              "<style scoped>\n",
              "    .dataframe tbody tr th:only-of-type {\n",
              "        vertical-align: middle;\n",
              "    }\n",
              "\n",
              "    .dataframe tbody tr th {\n",
              "        vertical-align: top;\n",
              "    }\n",
              "\n",
              "    .dataframe thead th {\n",
              "        text-align: right;\n",
              "    }\n",
              "</style>\n",
              "<table border=\"1\" class=\"dataframe\">\n",
              "  <thead>\n",
              "    <tr style=\"text-align: right;\">\n",
              "      <th></th>\n",
              "      <th>Predicted price</th>\n",
              "      <th>Real price</th>\n",
              "    </tr>\n",
              "  </thead>\n",
              "  <tbody>\n",
              "    <tr>\n",
              "      <th>1623</th>\n",
              "      <td>30616.306189</td>\n",
              "      <td>32200</td>\n",
              "    </tr>\n",
              "    <tr>\n",
              "      <th>1906</th>\n",
              "      <td>56563.180977</td>\n",
              "      <td>30000</td>\n",
              "    </tr>\n",
              "    <tr>\n",
              "      <th>3024</th>\n",
              "      <td>95448.300705</td>\n",
              "      <td>47000</td>\n",
              "    </tr>\n",
              "    <tr>\n",
              "      <th>4793</th>\n",
              "      <td>98119.274276</td>\n",
              "      <td>49500</td>\n",
              "    </tr>\n",
              "    <tr>\n",
              "      <th>5115</th>\n",
              "      <td>71381.451366</td>\n",
              "      <td>68000</td>\n",
              "    </tr>\n",
              "  </tbody>\n",
              "</table>\n",
              "</div>\n",
              "      <button class=\"colab-df-convert\" onclick=\"convertToInteractive('df-c109585f-ec1b-41d5-8a6c-2bd3c135733c')\"\n",
              "              title=\"Convert this dataframe to an interactive table.\"\n",
              "              style=\"display:none;\">\n",
              "        \n",
              "  <svg xmlns=\"http://www.w3.org/2000/svg\" height=\"24px\"viewBox=\"0 0 24 24\"\n",
              "       width=\"24px\">\n",
              "    <path d=\"M0 0h24v24H0V0z\" fill=\"none\"/>\n",
              "    <path d=\"M18.56 5.44l.94 2.06.94-2.06 2.06-.94-2.06-.94-.94-2.06-.94 2.06-2.06.94zm-11 1L8.5 8.5l.94-2.06 2.06-.94-2.06-.94L8.5 2.5l-.94 2.06-2.06.94zm10 10l.94 2.06.94-2.06 2.06-.94-2.06-.94-.94-2.06-.94 2.06-2.06.94z\"/><path d=\"M17.41 7.96l-1.37-1.37c-.4-.4-.92-.59-1.43-.59-.52 0-1.04.2-1.43.59L10.3 9.45l-7.72 7.72c-.78.78-.78 2.05 0 2.83L4 21.41c.39.39.9.59 1.41.59.51 0 1.02-.2 1.41-.59l7.78-7.78 2.81-2.81c.8-.78.8-2.07 0-2.86zM5.41 20L4 18.59l7.72-7.72 1.47 1.35L5.41 20z\"/>\n",
              "  </svg>\n",
              "      </button>\n",
              "      \n",
              "  <style>\n",
              "    .colab-df-container {\n",
              "      display:flex;\n",
              "      flex-wrap:wrap;\n",
              "      gap: 12px;\n",
              "    }\n",
              "\n",
              "    .colab-df-convert {\n",
              "      background-color: #E8F0FE;\n",
              "      border: none;\n",
              "      border-radius: 50%;\n",
              "      cursor: pointer;\n",
              "      display: none;\n",
              "      fill: #1967D2;\n",
              "      height: 32px;\n",
              "      padding: 0 0 0 0;\n",
              "      width: 32px;\n",
              "    }\n",
              "\n",
              "    .colab-df-convert:hover {\n",
              "      background-color: #E2EBFA;\n",
              "      box-shadow: 0px 1px 2px rgba(60, 64, 67, 0.3), 0px 1px 3px 1px rgba(60, 64, 67, 0.15);\n",
              "      fill: #174EA6;\n",
              "    }\n",
              "\n",
              "    [theme=dark] .colab-df-convert {\n",
              "      background-color: #3B4455;\n",
              "      fill: #D2E3FC;\n",
              "    }\n",
              "\n",
              "    [theme=dark] .colab-df-convert:hover {\n",
              "      background-color: #434B5C;\n",
              "      box-shadow: 0px 1px 3px 1px rgba(0, 0, 0, 0.15);\n",
              "      filter: drop-shadow(0px 1px 2px rgba(0, 0, 0, 0.3));\n",
              "      fill: #FFFFFF;\n",
              "    }\n",
              "  </style>\n",
              "\n",
              "      <script>\n",
              "        const buttonEl =\n",
              "          document.querySelector('#df-c109585f-ec1b-41d5-8a6c-2bd3c135733c button.colab-df-convert');\n",
              "        buttonEl.style.display =\n",
              "          google.colab.kernel.accessAllowed ? 'block' : 'none';\n",
              "\n",
              "        async function convertToInteractive(key) {\n",
              "          const element = document.querySelector('#df-c109585f-ec1b-41d5-8a6c-2bd3c135733c');\n",
              "          const dataTable =\n",
              "            await google.colab.kernel.invokeFunction('convertToInteractive',\n",
              "                                                     [key], {});\n",
              "          if (!dataTable) return;\n",
              "\n",
              "          const docLinkHtml = 'Like what you see? Visit the ' +\n",
              "            '<a target=\"_blank\" href=https://colab.research.google.com/notebooks/data_table.ipynb>data table notebook</a>'\n",
              "            + ' to learn more about interactive tables.';\n",
              "          element.innerHTML = '';\n",
              "          dataTable['output_type'] = 'display_data';\n",
              "          await google.colab.output.renderOutput(dataTable, element);\n",
              "          const docLink = document.createElement('div');\n",
              "          docLink.innerHTML = docLinkHtml;\n",
              "          element.appendChild(docLink);\n",
              "        }\n",
              "      </script>\n",
              "    </div>\n",
              "  </div>\n",
              "  "
            ]
          },
          "metadata": {},
          "execution_count": 32
        }
      ]
    },
    {
      "cell_type": "markdown",
      "source": [
        "#5-STEP. Model evaluation "
      ],
      "metadata": {
        "id": "JlF73E5k53s1"
      }
    },
    {
      "cell_type": "code",
      "source": [
        "test_set"
      ],
      "metadata": {
        "colab": {
          "base_uri": "https://localhost:8080/",
          "height": 424
        },
        "id": "1JBtrHcf5we0",
        "outputId": "5a9986b6-05f7-4519-de27-b4066fe57e17"
      },
      "execution_count": 33,
      "outputs": [
        {
          "output_type": "execute_result",
          "data": {
            "text/plain": [
              "                                               location           district  \\\n",
              "467   город Ташкент, Мирзо-Улугбекский район, ц-1 Бу...  Мирзо-Улугбекский   \n",
              "7224      город Ташкент, Учтепинский район, Чиланзар-11        Учтепинский   \n",
              "220   город Ташкент, Мирзо-Улугбекский район, Паркен...  Мирзо-Улугбекский   \n",
              "4703         город Ташкент, Яккасарайский район, Глинки      Яккасарайский   \n",
              "549   город Ташкент, Мирзо-Улугбекский район, Карасу...  Мирзо-Улугбекский   \n",
              "...                                                 ...                ...   \n",
              "3469  город Ташкент, Юнусабадский район, Юнусабад 6-...       Юнусабадский   \n",
              "3754          город Ташкент, Мирабадский район, Мирабад        Мирабадский   \n",
              "1173  город Ташкент, Учтепинский район, Чиланзар 14-...        Учтепинский   \n",
              "843   город Ташкент, Чиланзарский район, Чиланзар 17...       Чиланзарский   \n",
              "1183           город Ташкент, Учтепинский район, Такачи        Учтепинский   \n",
              "\n",
              "      rooms  size  level  max_levels   price  \n",
              "467       4    90      3           4  133000  \n",
              "7224      2    51      2           4       2  \n",
              "220       2    63      4           9   55500  \n",
              "4703      4   250      4           8  250000  \n",
              "549       4    91      3           5   50000  \n",
              "...     ...   ...    ...         ...     ...  \n",
              "3469      2    74      3           6   46835  \n",
              "3754      3    72      2           9   82000  \n",
              "1173      2    50      2           4   33999  \n",
              "843       3    65      4           4   46500  \n",
              "1183      2    54      3           5   37000  \n",
              "\n",
              "[1354 rows x 7 columns]"
            ],
            "text/html": [
              "\n",
              "  <div id=\"df-70d1bdac-a4a1-41c6-922c-053a1d2b0a5b\">\n",
              "    <div class=\"colab-df-container\">\n",
              "      <div>\n",
              "<style scoped>\n",
              "    .dataframe tbody tr th:only-of-type {\n",
              "        vertical-align: middle;\n",
              "    }\n",
              "\n",
              "    .dataframe tbody tr th {\n",
              "        vertical-align: top;\n",
              "    }\n",
              "\n",
              "    .dataframe thead th {\n",
              "        text-align: right;\n",
              "    }\n",
              "</style>\n",
              "<table border=\"1\" class=\"dataframe\">\n",
              "  <thead>\n",
              "    <tr style=\"text-align: right;\">\n",
              "      <th></th>\n",
              "      <th>location</th>\n",
              "      <th>district</th>\n",
              "      <th>rooms</th>\n",
              "      <th>size</th>\n",
              "      <th>level</th>\n",
              "      <th>max_levels</th>\n",
              "      <th>price</th>\n",
              "    </tr>\n",
              "  </thead>\n",
              "  <tbody>\n",
              "    <tr>\n",
              "      <th>467</th>\n",
              "      <td>город Ташкент, Мирзо-Улугбекский район, ц-1 Бу...</td>\n",
              "      <td>Мирзо-Улугбекский</td>\n",
              "      <td>4</td>\n",
              "      <td>90</td>\n",
              "      <td>3</td>\n",
              "      <td>4</td>\n",
              "      <td>133000</td>\n",
              "    </tr>\n",
              "    <tr>\n",
              "      <th>7224</th>\n",
              "      <td>город Ташкент, Учтепинский район, Чиланзар-11</td>\n",
              "      <td>Учтепинский</td>\n",
              "      <td>2</td>\n",
              "      <td>51</td>\n",
              "      <td>2</td>\n",
              "      <td>4</td>\n",
              "      <td>2</td>\n",
              "    </tr>\n",
              "    <tr>\n",
              "      <th>220</th>\n",
              "      <td>город Ташкент, Мирзо-Улугбекский район, Паркен...</td>\n",
              "      <td>Мирзо-Улугбекский</td>\n",
              "      <td>2</td>\n",
              "      <td>63</td>\n",
              "      <td>4</td>\n",
              "      <td>9</td>\n",
              "      <td>55500</td>\n",
              "    </tr>\n",
              "    <tr>\n",
              "      <th>4703</th>\n",
              "      <td>город Ташкент, Яккасарайский район, Глинки</td>\n",
              "      <td>Яккасарайский</td>\n",
              "      <td>4</td>\n",
              "      <td>250</td>\n",
              "      <td>4</td>\n",
              "      <td>8</td>\n",
              "      <td>250000</td>\n",
              "    </tr>\n",
              "    <tr>\n",
              "      <th>549</th>\n",
              "      <td>город Ташкент, Мирзо-Улугбекский район, Карасу...</td>\n",
              "      <td>Мирзо-Улугбекский</td>\n",
              "      <td>4</td>\n",
              "      <td>91</td>\n",
              "      <td>3</td>\n",
              "      <td>5</td>\n",
              "      <td>50000</td>\n",
              "    </tr>\n",
              "    <tr>\n",
              "      <th>...</th>\n",
              "      <td>...</td>\n",
              "      <td>...</td>\n",
              "      <td>...</td>\n",
              "      <td>...</td>\n",
              "      <td>...</td>\n",
              "      <td>...</td>\n",
              "      <td>...</td>\n",
              "    </tr>\n",
              "    <tr>\n",
              "      <th>3469</th>\n",
              "      <td>город Ташкент, Юнусабадский район, Юнусабад 6-...</td>\n",
              "      <td>Юнусабадский</td>\n",
              "      <td>2</td>\n",
              "      <td>74</td>\n",
              "      <td>3</td>\n",
              "      <td>6</td>\n",
              "      <td>46835</td>\n",
              "    </tr>\n",
              "    <tr>\n",
              "      <th>3754</th>\n",
              "      <td>город Ташкент, Мирабадский район, Мирабад</td>\n",
              "      <td>Мирабадский</td>\n",
              "      <td>3</td>\n",
              "      <td>72</td>\n",
              "      <td>2</td>\n",
              "      <td>9</td>\n",
              "      <td>82000</td>\n",
              "    </tr>\n",
              "    <tr>\n",
              "      <th>1173</th>\n",
              "      <td>город Ташкент, Учтепинский район, Чиланзар 14-...</td>\n",
              "      <td>Учтепинский</td>\n",
              "      <td>2</td>\n",
              "      <td>50</td>\n",
              "      <td>2</td>\n",
              "      <td>4</td>\n",
              "      <td>33999</td>\n",
              "    </tr>\n",
              "    <tr>\n",
              "      <th>843</th>\n",
              "      <td>город Ташкент, Чиланзарский район, Чиланзар 17...</td>\n",
              "      <td>Чиланзарский</td>\n",
              "      <td>3</td>\n",
              "      <td>65</td>\n",
              "      <td>4</td>\n",
              "      <td>4</td>\n",
              "      <td>46500</td>\n",
              "    </tr>\n",
              "    <tr>\n",
              "      <th>1183</th>\n",
              "      <td>город Ташкент, Учтепинский район, Такачи</td>\n",
              "      <td>Учтепинский</td>\n",
              "      <td>2</td>\n",
              "      <td>54</td>\n",
              "      <td>3</td>\n",
              "      <td>5</td>\n",
              "      <td>37000</td>\n",
              "    </tr>\n",
              "  </tbody>\n",
              "</table>\n",
              "<p>1354 rows × 7 columns</p>\n",
              "</div>\n",
              "      <button class=\"colab-df-convert\" onclick=\"convertToInteractive('df-70d1bdac-a4a1-41c6-922c-053a1d2b0a5b')\"\n",
              "              title=\"Convert this dataframe to an interactive table.\"\n",
              "              style=\"display:none;\">\n",
              "        \n",
              "  <svg xmlns=\"http://www.w3.org/2000/svg\" height=\"24px\"viewBox=\"0 0 24 24\"\n",
              "       width=\"24px\">\n",
              "    <path d=\"M0 0h24v24H0V0z\" fill=\"none\"/>\n",
              "    <path d=\"M18.56 5.44l.94 2.06.94-2.06 2.06-.94-2.06-.94-.94-2.06-.94 2.06-2.06.94zm-11 1L8.5 8.5l.94-2.06 2.06-.94-2.06-.94L8.5 2.5l-.94 2.06-2.06.94zm10 10l.94 2.06.94-2.06 2.06-.94-2.06-.94-.94-2.06-.94 2.06-2.06.94z\"/><path d=\"M17.41 7.96l-1.37-1.37c-.4-.4-.92-.59-1.43-.59-.52 0-1.04.2-1.43.59L10.3 9.45l-7.72 7.72c-.78.78-.78 2.05 0 2.83L4 21.41c.39.39.9.59 1.41.59.51 0 1.02-.2 1.41-.59l7.78-7.78 2.81-2.81c.8-.78.8-2.07 0-2.86zM5.41 20L4 18.59l7.72-7.72 1.47 1.35L5.41 20z\"/>\n",
              "  </svg>\n",
              "      </button>\n",
              "      \n",
              "  <style>\n",
              "    .colab-df-container {\n",
              "      display:flex;\n",
              "      flex-wrap:wrap;\n",
              "      gap: 12px;\n",
              "    }\n",
              "\n",
              "    .colab-df-convert {\n",
              "      background-color: #E8F0FE;\n",
              "      border: none;\n",
              "      border-radius: 50%;\n",
              "      cursor: pointer;\n",
              "      display: none;\n",
              "      fill: #1967D2;\n",
              "      height: 32px;\n",
              "      padding: 0 0 0 0;\n",
              "      width: 32px;\n",
              "    }\n",
              "\n",
              "    .colab-df-convert:hover {\n",
              "      background-color: #E2EBFA;\n",
              "      box-shadow: 0px 1px 2px rgba(60, 64, 67, 0.3), 0px 1px 3px 1px rgba(60, 64, 67, 0.15);\n",
              "      fill: #174EA6;\n",
              "    }\n",
              "\n",
              "    [theme=dark] .colab-df-convert {\n",
              "      background-color: #3B4455;\n",
              "      fill: #D2E3FC;\n",
              "    }\n",
              "\n",
              "    [theme=dark] .colab-df-convert:hover {\n",
              "      background-color: #434B5C;\n",
              "      box-shadow: 0px 1px 3px 1px rgba(0, 0, 0, 0.15);\n",
              "      filter: drop-shadow(0px 1px 2px rgba(0, 0, 0, 0.3));\n",
              "      fill: #FFFFFF;\n",
              "    }\n",
              "  </style>\n",
              "\n",
              "      <script>\n",
              "        const buttonEl =\n",
              "          document.querySelector('#df-70d1bdac-a4a1-41c6-922c-053a1d2b0a5b button.colab-df-convert');\n",
              "        buttonEl.style.display =\n",
              "          google.colab.kernel.accessAllowed ? 'block' : 'none';\n",
              "\n",
              "        async function convertToInteractive(key) {\n",
              "          const element = document.querySelector('#df-70d1bdac-a4a1-41c6-922c-053a1d2b0a5b');\n",
              "          const dataTable =\n",
              "            await google.colab.kernel.invokeFunction('convertToInteractive',\n",
              "                                                     [key], {});\n",
              "          if (!dataTable) return;\n",
              "\n",
              "          const docLinkHtml = 'Like what you see? Visit the ' +\n",
              "            '<a target=\"_blank\" href=https://colab.research.google.com/notebooks/data_table.ipynb>data table notebook</a>'\n",
              "            + ' to learn more about interactive tables.';\n",
              "          element.innerHTML = '';\n",
              "          dataTable['output_type'] = 'display_data';\n",
              "          await google.colab.output.renderOutput(dataTable, element);\n",
              "          const docLink = document.createElement('div');\n",
              "          docLink.innerHTML = docLinkHtml;\n",
              "          element.appendChild(docLink);\n",
              "        }\n",
              "      </script>\n",
              "    </div>\n",
              "  </div>\n",
              "  "
            ]
          },
          "metadata": {},
          "execution_count": 33
        }
      ]
    },
    {
      "cell_type": "code",
      "source": [
        "X_test = test_set.drop('price', axis=1)\n",
        "X_test"
      ],
      "metadata": {
        "colab": {
          "base_uri": "https://localhost:8080/",
          "height": 424
        },
        "id": "pVRV7F1o57no",
        "outputId": "924ac71b-154f-4b69-dc5d-0ac9b6db6a9d"
      },
      "execution_count": 34,
      "outputs": [
        {
          "output_type": "execute_result",
          "data": {
            "text/plain": [
              "                                               location           district  \\\n",
              "467   город Ташкент, Мирзо-Улугбекский район, ц-1 Бу...  Мирзо-Улугбекский   \n",
              "7224      город Ташкент, Учтепинский район, Чиланзар-11        Учтепинский   \n",
              "220   город Ташкент, Мирзо-Улугбекский район, Паркен...  Мирзо-Улугбекский   \n",
              "4703         город Ташкент, Яккасарайский район, Глинки      Яккасарайский   \n",
              "549   город Ташкент, Мирзо-Улугбекский район, Карасу...  Мирзо-Улугбекский   \n",
              "...                                                 ...                ...   \n",
              "3469  город Ташкент, Юнусабадский район, Юнусабад 6-...       Юнусабадский   \n",
              "3754          город Ташкент, Мирабадский район, Мирабад        Мирабадский   \n",
              "1173  город Ташкент, Учтепинский район, Чиланзар 14-...        Учтепинский   \n",
              "843   город Ташкент, Чиланзарский район, Чиланзар 17...       Чиланзарский   \n",
              "1183           город Ташкент, Учтепинский район, Такачи        Учтепинский   \n",
              "\n",
              "      rooms  size  level  max_levels  \n",
              "467       4    90      3           4  \n",
              "7224      2    51      2           4  \n",
              "220       2    63      4           9  \n",
              "4703      4   250      4           8  \n",
              "549       4    91      3           5  \n",
              "...     ...   ...    ...         ...  \n",
              "3469      2    74      3           6  \n",
              "3754      3    72      2           9  \n",
              "1173      2    50      2           4  \n",
              "843       3    65      4           4  \n",
              "1183      2    54      3           5  \n",
              "\n",
              "[1354 rows x 6 columns]"
            ],
            "text/html": [
              "\n",
              "  <div id=\"df-5cf7e1b3-6d5b-4b33-bfc9-cc46c729503e\">\n",
              "    <div class=\"colab-df-container\">\n",
              "      <div>\n",
              "<style scoped>\n",
              "    .dataframe tbody tr th:only-of-type {\n",
              "        vertical-align: middle;\n",
              "    }\n",
              "\n",
              "    .dataframe tbody tr th {\n",
              "        vertical-align: top;\n",
              "    }\n",
              "\n",
              "    .dataframe thead th {\n",
              "        text-align: right;\n",
              "    }\n",
              "</style>\n",
              "<table border=\"1\" class=\"dataframe\">\n",
              "  <thead>\n",
              "    <tr style=\"text-align: right;\">\n",
              "      <th></th>\n",
              "      <th>location</th>\n",
              "      <th>district</th>\n",
              "      <th>rooms</th>\n",
              "      <th>size</th>\n",
              "      <th>level</th>\n",
              "      <th>max_levels</th>\n",
              "    </tr>\n",
              "  </thead>\n",
              "  <tbody>\n",
              "    <tr>\n",
              "      <th>467</th>\n",
              "      <td>город Ташкент, Мирзо-Улугбекский район, ц-1 Бу...</td>\n",
              "      <td>Мирзо-Улугбекский</td>\n",
              "      <td>4</td>\n",
              "      <td>90</td>\n",
              "      <td>3</td>\n",
              "      <td>4</td>\n",
              "    </tr>\n",
              "    <tr>\n",
              "      <th>7224</th>\n",
              "      <td>город Ташкент, Учтепинский район, Чиланзар-11</td>\n",
              "      <td>Учтепинский</td>\n",
              "      <td>2</td>\n",
              "      <td>51</td>\n",
              "      <td>2</td>\n",
              "      <td>4</td>\n",
              "    </tr>\n",
              "    <tr>\n",
              "      <th>220</th>\n",
              "      <td>город Ташкент, Мирзо-Улугбекский район, Паркен...</td>\n",
              "      <td>Мирзо-Улугбекский</td>\n",
              "      <td>2</td>\n",
              "      <td>63</td>\n",
              "      <td>4</td>\n",
              "      <td>9</td>\n",
              "    </tr>\n",
              "    <tr>\n",
              "      <th>4703</th>\n",
              "      <td>город Ташкент, Яккасарайский район, Глинки</td>\n",
              "      <td>Яккасарайский</td>\n",
              "      <td>4</td>\n",
              "      <td>250</td>\n",
              "      <td>4</td>\n",
              "      <td>8</td>\n",
              "    </tr>\n",
              "    <tr>\n",
              "      <th>549</th>\n",
              "      <td>город Ташкент, Мирзо-Улугбекский район, Карасу...</td>\n",
              "      <td>Мирзо-Улугбекский</td>\n",
              "      <td>4</td>\n",
              "      <td>91</td>\n",
              "      <td>3</td>\n",
              "      <td>5</td>\n",
              "    </tr>\n",
              "    <tr>\n",
              "      <th>...</th>\n",
              "      <td>...</td>\n",
              "      <td>...</td>\n",
              "      <td>...</td>\n",
              "      <td>...</td>\n",
              "      <td>...</td>\n",
              "      <td>...</td>\n",
              "    </tr>\n",
              "    <tr>\n",
              "      <th>3469</th>\n",
              "      <td>город Ташкент, Юнусабадский район, Юнусабад 6-...</td>\n",
              "      <td>Юнусабадский</td>\n",
              "      <td>2</td>\n",
              "      <td>74</td>\n",
              "      <td>3</td>\n",
              "      <td>6</td>\n",
              "    </tr>\n",
              "    <tr>\n",
              "      <th>3754</th>\n",
              "      <td>город Ташкент, Мирабадский район, Мирабад</td>\n",
              "      <td>Мирабадский</td>\n",
              "      <td>3</td>\n",
              "      <td>72</td>\n",
              "      <td>2</td>\n",
              "      <td>9</td>\n",
              "    </tr>\n",
              "    <tr>\n",
              "      <th>1173</th>\n",
              "      <td>город Ташкент, Учтепинский район, Чиланзар 14-...</td>\n",
              "      <td>Учтепинский</td>\n",
              "      <td>2</td>\n",
              "      <td>50</td>\n",
              "      <td>2</td>\n",
              "      <td>4</td>\n",
              "    </tr>\n",
              "    <tr>\n",
              "      <th>843</th>\n",
              "      <td>город Ташкент, Чиланзарский район, Чиланзар 17...</td>\n",
              "      <td>Чиланзарский</td>\n",
              "      <td>3</td>\n",
              "      <td>65</td>\n",
              "      <td>4</td>\n",
              "      <td>4</td>\n",
              "    </tr>\n",
              "    <tr>\n",
              "      <th>1183</th>\n",
              "      <td>город Ташкент, Учтепинский район, Такачи</td>\n",
              "      <td>Учтепинский</td>\n",
              "      <td>2</td>\n",
              "      <td>54</td>\n",
              "      <td>3</td>\n",
              "      <td>5</td>\n",
              "    </tr>\n",
              "  </tbody>\n",
              "</table>\n",
              "<p>1354 rows × 6 columns</p>\n",
              "</div>\n",
              "      <button class=\"colab-df-convert\" onclick=\"convertToInteractive('df-5cf7e1b3-6d5b-4b33-bfc9-cc46c729503e')\"\n",
              "              title=\"Convert this dataframe to an interactive table.\"\n",
              "              style=\"display:none;\">\n",
              "        \n",
              "  <svg xmlns=\"http://www.w3.org/2000/svg\" height=\"24px\"viewBox=\"0 0 24 24\"\n",
              "       width=\"24px\">\n",
              "    <path d=\"M0 0h24v24H0V0z\" fill=\"none\"/>\n",
              "    <path d=\"M18.56 5.44l.94 2.06.94-2.06 2.06-.94-2.06-.94-.94-2.06-.94 2.06-2.06.94zm-11 1L8.5 8.5l.94-2.06 2.06-.94-2.06-.94L8.5 2.5l-.94 2.06-2.06.94zm10 10l.94 2.06.94-2.06 2.06-.94-2.06-.94-.94-2.06-.94 2.06-2.06.94z\"/><path d=\"M17.41 7.96l-1.37-1.37c-.4-.4-.92-.59-1.43-.59-.52 0-1.04.2-1.43.59L10.3 9.45l-7.72 7.72c-.78.78-.78 2.05 0 2.83L4 21.41c.39.39.9.59 1.41.59.51 0 1.02-.2 1.41-.59l7.78-7.78 2.81-2.81c.8-.78.8-2.07 0-2.86zM5.41 20L4 18.59l7.72-7.72 1.47 1.35L5.41 20z\"/>\n",
              "  </svg>\n",
              "      </button>\n",
              "      \n",
              "  <style>\n",
              "    .colab-df-container {\n",
              "      display:flex;\n",
              "      flex-wrap:wrap;\n",
              "      gap: 12px;\n",
              "    }\n",
              "\n",
              "    .colab-df-convert {\n",
              "      background-color: #E8F0FE;\n",
              "      border: none;\n",
              "      border-radius: 50%;\n",
              "      cursor: pointer;\n",
              "      display: none;\n",
              "      fill: #1967D2;\n",
              "      height: 32px;\n",
              "      padding: 0 0 0 0;\n",
              "      width: 32px;\n",
              "    }\n",
              "\n",
              "    .colab-df-convert:hover {\n",
              "      background-color: #E2EBFA;\n",
              "      box-shadow: 0px 1px 2px rgba(60, 64, 67, 0.3), 0px 1px 3px 1px rgba(60, 64, 67, 0.15);\n",
              "      fill: #174EA6;\n",
              "    }\n",
              "\n",
              "    [theme=dark] .colab-df-convert {\n",
              "      background-color: #3B4455;\n",
              "      fill: #D2E3FC;\n",
              "    }\n",
              "\n",
              "    [theme=dark] .colab-df-convert:hover {\n",
              "      background-color: #434B5C;\n",
              "      box-shadow: 0px 1px 3px 1px rgba(0, 0, 0, 0.15);\n",
              "      filter: drop-shadow(0px 1px 2px rgba(0, 0, 0, 0.3));\n",
              "      fill: #FFFFFF;\n",
              "    }\n",
              "  </style>\n",
              "\n",
              "      <script>\n",
              "        const buttonEl =\n",
              "          document.querySelector('#df-5cf7e1b3-6d5b-4b33-bfc9-cc46c729503e button.colab-df-convert');\n",
              "        buttonEl.style.display =\n",
              "          google.colab.kernel.accessAllowed ? 'block' : 'none';\n",
              "\n",
              "        async function convertToInteractive(key) {\n",
              "          const element = document.querySelector('#df-5cf7e1b3-6d5b-4b33-bfc9-cc46c729503e');\n",
              "          const dataTable =\n",
              "            await google.colab.kernel.invokeFunction('convertToInteractive',\n",
              "                                                     [key], {});\n",
              "          if (!dataTable) return;\n",
              "\n",
              "          const docLinkHtml = 'Like what you see? Visit the ' +\n",
              "            '<a target=\"_blank\" href=https://colab.research.google.com/notebooks/data_table.ipynb>data table notebook</a>'\n",
              "            + ' to learn more about interactive tables.';\n",
              "          element.innerHTML = '';\n",
              "          dataTable['output_type'] = 'display_data';\n",
              "          await google.colab.output.renderOutput(dataTable, element);\n",
              "          const docLink = document.createElement('div');\n",
              "          docLink.innerHTML = docLinkHtml;\n",
              "          element.appendChild(docLink);\n",
              "        }\n",
              "      </script>\n",
              "    </div>\n",
              "  </div>\n",
              "  "
            ]
          },
          "metadata": {},
          "execution_count": 34
        }
      ]
    },
    {
      "cell_type": "code",
      "source": [
        "y_test = test_set['price'].copy()\n",
        "y_test"
      ],
      "metadata": {
        "colab": {
          "base_uri": "https://localhost:8080/"
        },
        "id": "I2XgpM7a6AE3",
        "outputId": "c6c2bbe1-5c5c-49a4-8524-527fd4d1eece"
      },
      "execution_count": 35,
      "outputs": [
        {
          "output_type": "execute_result",
          "data": {
            "text/plain": [
              "467     133000\n",
              "7224         2\n",
              "220      55500\n",
              "4703    250000\n",
              "549      50000\n",
              "         ...  \n",
              "3469     46835\n",
              "3754     82000\n",
              "1173     33999\n",
              "843      46500\n",
              "1183     37000\n",
              "Name: price, Length: 1354, dtype: int64"
            ]
          },
          "metadata": {},
          "execution_count": 35
        }
      ]
    },
    {
      "cell_type": "code",
      "source": [
        "X_test_prepared = full_pipeline.fit_transform(X_test)"
      ],
      "metadata": {
        "id": "969hR5CQ6I8T"
      },
      "execution_count": 36,
      "outputs": []
    },
    {
      "cell_type": "code",
      "source": [
        "y_predicted = LR_model.predict(X_test_prepared)"
      ],
      "metadata": {
        "id": "aQ7-uggM6M0O"
      },
      "execution_count": 38,
      "outputs": []
    },
    {
      "cell_type": "code",
      "source": [
        "from sklearn.metrics import mean_squared_error\n",
        "lin_mse = mean_squared_error(y_test, y_predicted)\n",
        "# RMSE \n",
        "lin_rmse = np.sqrt(lin_mse)\n",
        "print(lin_rmse)"
      ],
      "metadata": {
        "colab": {
          "base_uri": "https://localhost:8080/"
        },
        "id": "HHN0DRCb-Ukt",
        "outputId": "5e423d26-3e57-4b11-e09b-7969582c69b2"
      },
      "execution_count": 39,
      "outputs": [
        {
          "output_type": "stream",
          "name": "stdout",
          "text": [
            "126522.96368690934\n"
          ]
        }
      ]
    },
    {
      "cell_type": "markdown",
      "source": [
        "#DecisionTree\n",
        "\n",
        "![Imgur](https://media.geeksforgeeks.org/wp-content/cdn-uploads/Decision_Tree-2.png)"
      ],
      "metadata": {
        "id": "pRZGBIKx-pSk"
      }
    },
    {
      "cell_type": "code",
      "source": [
        "from sklearn.tree import DecisionTreeRegressor\n",
        "Tree_model = DecisionTreeRegressor()\n",
        "Tree_model.fit(X_prepared, y)"
      ],
      "metadata": {
        "colab": {
          "base_uri": "https://localhost:8080/"
        },
        "id": "h94uyr2u-XeP",
        "outputId": "1ceb61bf-72e2-4975-c5b2-cf392ddd9420"
      },
      "execution_count": 40,
      "outputs": [
        {
          "output_type": "execute_result",
          "data": {
            "text/plain": [
              "DecisionTreeRegressor()"
            ]
          },
          "metadata": {},
          "execution_count": 40
        }
      ]
    },
    {
      "cell_type": "code",
      "source": [
        "y_predicted = Tree_model.predict(X_test_prepared)"
      ],
      "metadata": {
        "id": "CkWjD8ay-s3w"
      },
      "execution_count": 41,
      "outputs": []
    },
    {
      "cell_type": "code",
      "source": [
        "lin_mse = mean_squared_error(y_test, y_predicted)\n",
        "# RMSE hisoblaymiz\n",
        "lin_rmse = np.sqrt(lin_mse)\n",
        "print(lin_rmse)"
      ],
      "metadata": {
        "colab": {
          "base_uri": "https://localhost:8080/"
        },
        "id": "jLs8eiOb-wEY",
        "outputId": "6ec78554-76ed-47aa-9c66-9282e2546c1f"
      },
      "execution_count": 42,
      "outputs": [
        {
          "output_type": "stream",
          "name": "stdout",
          "text": [
            "592792.9765436198\n"
          ]
        }
      ]
    },
    {
      "cell_type": "markdown",
      "source": [
        "#RandomForest\n",
        "![Imgur](https://upload.wikimedia.org/wikipedia/commons/7/76/Random_forest_diagram_complete.png)"
      ],
      "metadata": {
        "id": "iLh9Pkdn-3y5"
      }
    },
    {
      "cell_type": "code",
      "source": [
        "from sklearn.ensemble import RandomForestRegressor\n",
        "RF_model = RandomForestRegressor()\n",
        "RF_model.fit(X_prepared, y)"
      ],
      "metadata": {
        "colab": {
          "base_uri": "https://localhost:8080/"
        },
        "id": "hKEWVbDZ-zOU",
        "outputId": "873924cf-64bf-499a-eca7-eb6146b738b2"
      },
      "execution_count": 43,
      "outputs": [
        {
          "output_type": "execute_result",
          "data": {
            "text/plain": [
              "RandomForestRegressor()"
            ]
          },
          "metadata": {},
          "execution_count": 43
        }
      ]
    },
    {
      "cell_type": "code",
      "source": [
        "y_predicted = RF_model.predict(X_test_prepared)\n",
        "lin_mse = mean_squared_error(y_test, y_predicted)\n",
        "# RMSE hisoblaymiz\n",
        "lin_rmse = np.sqrt(lin_mse)\n",
        "print(lin_rmse)"
      ],
      "metadata": {
        "colab": {
          "base_uri": "https://localhost:8080/"
        },
        "id": "3PM05UFE-6ya",
        "outputId": "afaa83f6-afc4-4b7e-8384-bf262ac9d9ef"
      },
      "execution_count": 44,
      "outputs": [
        {
          "output_type": "stream",
          "name": "stdout",
          "text": [
            "222438.8771563831\n"
          ]
        }
      ]
    },
    {
      "cell_type": "markdown",
      "source": [
        "#Cross-Validation \n",
        "![Imgur](https://dataaspirant.com/wp-content/uploads/2020/12/1-Cross-Validation.png)"
      ],
      "metadata": {
        "id": "OtYkEsT2_DYC"
      }
    },
    {
      "cell_type": "code",
      "source": [
        "X = df.drop(\"price\", axis=1)\n",
        "y = df[\"price\"].copy()\n",
        "\n",
        "X_prepared = full_pipeline.fit_transform(X)"
      ],
      "metadata": {
        "id": "evnDw-5L--SD"
      },
      "execution_count": 45,
      "outputs": []
    },
    {
      "cell_type": "code",
      "source": [
        "def display_scores(scores):\n",
        "    print(\"Scores:\", scores)\n",
        "    print(\"Mean:\", scores.mean())\n",
        "    print(\"Std.dev:\", scores.std())"
      ],
      "metadata": {
        "id": "XRH2Dvg__RNv"
      },
      "execution_count": 46,
      "outputs": []
    },
    {
      "cell_type": "markdown",
      "source": [
        "#Cross-validation"
      ],
      "metadata": {
        "id": "1VLlBQ_T_bmj"
      }
    },
    {
      "cell_type": "code",
      "source": [
        "from sklearn.model_selection import cross_val_score"
      ],
      "metadata": {
        "id": "mRJNF3r0_XyI"
      },
      "execution_count": 47,
      "outputs": []
    },
    {
      "cell_type": "markdown",
      "source": [
        "#LogisticRegression\n",
        "![Imgur](https://miro.medium.com/max/640/0*gKOV65tvGfY8SMem.png)"
      ],
      "metadata": {
        "id": "txZp--Fq_h-H"
      }
    },
    {
      "cell_type": "code",
      "source": [
        "scores = cross_val_score(LR_model, X_prepared, y, scoring=\"neg_mean_squared_error\", cv=10)\n",
        "LR_rmse_scores = np.sqrt(-scores)"
      ],
      "metadata": {
        "id": "44gKqSNo_e_O"
      },
      "execution_count": 48,
      "outputs": []
    },
    {
      "cell_type": "code",
      "source": [
        "display_scores(LR_rmse_scores)"
      ],
      "metadata": {
        "colab": {
          "base_uri": "https://localhost:8080/"
        },
        "id": "s43Bxawg_mQi",
        "outputId": "5c1d152c-3b05-45ea-b344-8a19c9e48cbb"
      },
      "execution_count": 49,
      "outputs": [
        {
          "output_type": "stream",
          "name": "stdout",
          "text": [
            "Scores: [  72229.14553032   41796.02046167  150226.54234544   42783.89436637\n",
            "   41056.67353391   48834.13991728   52224.97830919 1996439.11124427\n",
            "  173778.37892516  681114.85272221]\n",
            "Mean: 330048.3737355807\n",
            "Std.dev: 585553.2859515554\n"
          ]
        }
      ]
    },
    {
      "cell_type": "markdown",
      "source": [
        "#Decision Tree"
      ],
      "metadata": {
        "id": "xkoAerQi_0kq"
      }
    },
    {
      "cell_type": "code",
      "source": [
        "scores = cross_val_score(Tree_model, X_prepared, y, scoring=\"neg_mean_squared_error\", cv=10)\n",
        "LR_rmse_scores = np.sqrt(-scores)\n",
        "display_scores(LR_rmse_scores)"
      ],
      "metadata": {
        "colab": {
          "base_uri": "https://localhost:8080/"
        },
        "id": "ZdX0Zsa2_q-Y",
        "outputId": "5b1c41f1-4f80-435d-be63-f5d510dbc404"
      },
      "execution_count": 50,
      "outputs": [
        {
          "output_type": "stream",
          "name": "stdout",
          "text": [
            "Scores: [ 157660.86531327 1997675.05387519  257695.85038236   60410.00249988\n",
            " 2031528.7428437    35731.00014994   70109.21557536 2084653.17622696\n",
            "  666903.47907361  700343.95525024]\n",
            "Mean: 806271.1341190515\n",
            "Std.dev: 836612.7827487631\n"
          ]
        }
      ]
    },
    {
      "cell_type": "markdown",
      "source": [
        "#Random Forest\n",
        "![Imgur](https://miro.medium.com/max/5752/1*5dq_1hnqkboZTcKFfwbO9A.png)"
      ],
      "metadata": {
        "id": "zmBJJwUf_8ZH"
      }
    },
    {
      "cell_type": "code",
      "source": [
        "scores = cross_val_score(RF_model, X_prepared, y, scoring=\"neg_mean_squared_error\", cv=10)\n",
        "LR_rmse_scores = np.sqrt(-scores)\n",
        "display_scores(LR_rmse_scores)\n"
      ],
      "metadata": {
        "id": "_eMeB2tq_3oo",
        "outputId": "01980fad-17be-46e4-9c3c-e00f182f2f1c",
        "colab": {
          "base_uri": "https://localhost:8080/"
        }
      },
      "execution_count": 51,
      "outputs": [
        {
          "output_type": "stream",
          "name": "stdout",
          "text": [
            "Scores: [  75087.78021729  627087.99555235  200079.61654898  192784.57216343\n",
            " 1204829.07326301   37664.8625158   360999.17060106 2010147.10751447\n",
            "  300991.45612278  701846.5283425 ]\n",
            "Mean: 571151.8162841651\n",
            "Std.dev: 584906.7651648693\n"
          ]
        }
      ]
    },
    {
      "cell_type": "markdown",
      "source": [
        "#PROJECT HAS NOT BEEN COMPLETED"
      ],
      "metadata": {
        "id": "z2TFJQTlrdhn"
      }
    },
    {
      "cell_type": "code",
      "source": [],
      "metadata": {
        "id": "qZR99PqBroJT"
      },
      "execution_count": null,
      "outputs": []
    }
  ]
}