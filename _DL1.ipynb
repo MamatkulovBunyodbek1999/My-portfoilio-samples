{
  "nbformat": 4,
  "nbformat_minor": 0,
  "metadata": {
    "colab": {
      "private_outputs": true,
      "provenance": [],
      "authorship_tag": "ABX9TyOxiiQPfUlINz17DZPbV6mE",
      "include_colab_link": true
    },
    "kernelspec": {
      "name": "python3",
      "display_name": "Python 3"
    },
    "language_info": {
      "name": "python"
    },
    "accelerator": "GPU",
    "gpuClass": "standard"
  },
  "cells": [
    {
      "cell_type": "markdown",
      "metadata": {
        "id": "view-in-github",
        "colab_type": "text"
      },
      "source": [
        "<a href=\"https://colab.research.google.com/github/MamatkulovBunyodbek1999/My-portfoilio-samples/blob/main/_DL1.ipynb\" target=\"_parent\"><img src=\"https://colab.research.google.com/assets/colab-badge.svg\" alt=\"Open In Colab\"/></a>"
      ]
    },
    {
      "cell_type": "markdown",
      "source": [
        "![Imgur](https://i.imgur.com/5pXzCIu.png)\n",
        "\n",
        "# Data Science and Artificial Intelligence Practicum\n",
        "\n",
        "## MODULE 6. Deep learning.\n",
        "\n",
        "\n"
      ],
      "metadata": {
        "id": "MawpLKUL0_qX"
      }
    },
    {
      "cell_type": "code",
      "source": [
        "! pip install fastai==2.5.3"
      ],
      "metadata": {
        "id": "clT_1mRg11NB"
      },
      "execution_count": null,
      "outputs": []
    },
    {
      "cell_type": "code",
      "source": [
        "import torch \n",
        "import fastai\n",
        "\n",
        "#CHECKING VERSIONS\n",
        "print(torch.__version__)\n",
        "print(fastai.__version__)"
      ],
      "metadata": {
        "id": "nq-RN86I2AtC"
      },
      "execution_count": null,
      "outputs": []
    },
    {
      "cell_type": "markdown",
      "source": [
        "#OIDv4_toolkit"
      ],
      "metadata": {
        "id": "MFt6WtpI4mXv"
      }
    },
    {
      "cell_type": "code",
      "source": [
        "#! git clone https://github.com/EscVM/OIDv4_ToolKit.git\n",
        "#!cd OIDv4_ToolKit &&  pip install -r requirements.txt"
      ],
      "metadata": {
        "id": "0gcOtUCc26HD"
      },
      "execution_count": null,
      "outputs": []
    },
    {
      "cell_type": "code",
      "source": [
        "#!cd OIDv4_ToolKit &&  python main.py -h"
      ],
      "metadata": {
        "id": "YXjvgCGZ5EuR"
      },
      "execution_count": null,
      "outputs": []
    },
    {
      "cell_type": "code",
      "source": [
        "!cd OIDv4_ToolKit &&  python3 main.py downloader --Dataset /content --classes Car Airplane Boat --type_csv train --limit 200"
      ],
      "metadata": {
        "id": "P8b4wMn97EMn"
      },
      "execution_count": null,
      "outputs": []
    },
    {
      "cell_type": "markdown",
      "source": [
        "#Now we have ready data set, with  which we can start our Deep Learning  model "
      ],
      "metadata": {
        "id": "tFOUFIr1Kgdb"
      }
    },
    {
      "cell_type": "markdown",
      "source": [
        "#Path"
      ],
      "metadata": {
        "id": "Eyh7V4N5NDzj"
      }
    },
    {
      "cell_type": "code",
      "source": [
        "from fastai.vision.all import*\n",
        "from ipywidgets import widgets\n",
        "\n",
        "\n",
        "\n",
        "#path\n",
        "path = Path('train')\n",
        "#path.ls()\n",
        "#fls = get_image_files(path)\n",
        "#fls\n",
        "#failed = verify_images(path)\n",
        "#failed\n"
      ],
      "metadata": {
        "id": "yBN7_2bl9spF"
      },
      "execution_count": null,
      "outputs": []
    },
    {
      "cell_type": "markdown",
      "source": [
        "#Data Loader"
      ],
      "metadata": {
        "id": "axTglZK8M34c"
      }
    },
    {
      "cell_type": "markdown",
      "source": [
        "###Data Block"
      ],
      "metadata": {
        "id": "BlcSM8ETNG_1"
      }
    },
    {
      "cell_type": "code",
      "source": [
        "transports = DataBlock(\n",
        "    blocks=(ImageBlock, CategoryBlock),\n",
        "    get_items = get_image_files,\n",
        "    splitter=RandomSplitter(valid_pct=0.2, seed=42),\n",
        "    get_y=parent_label,\n",
        "    item_tfms=Resize(224)\n",
        "\n",
        ")\n",
        "\n",
        "#Creating DataLoaders \n",
        "dls = transports.dataloaders(path)\n",
        "#checking the data set\n",
        "#dls.train.show_batch(max_n=32, nrows=4)\n",
        "\n",
        "\n",
        "\n",
        "#TRAINING PART\n",
        "learn = cnn_learner(dls, resnet34, metrics=accuracy )\n",
        "learn.fine_tune(4)"
      ],
      "metadata": {
        "id": "CQZBmnGOLFFu"
      },
      "execution_count": null,
      "outputs": []
    },
    {
      "cell_type": "code",
      "source": [
        "#Checking\n",
        "interp = ClassificationInterpretation.from_learner(learn)\n",
        "interp.plot_confusion_matrix()"
      ],
      "metadata": {
        "id": "b4McWxbLRXWh"
      },
      "execution_count": null,
      "outputs": []
    },
    {
      "cell_type": "code",
      "source": [
        "interp.plot_top_losses(5, nrows=1)"
      ],
      "metadata": {
        "id": "J489xuimVZpv"
      },
      "execution_count": null,
      "outputs": []
    },
    {
      "cell_type": "markdown",
      "source": [
        "#Let's check the model \n"
      ],
      "metadata": {
        "id": "ffevfTIJW8-C"
      }
    },
    {
      "cell_type": "code",
      "source": [
        "upload=widgets.FileUpload()\n",
        "upload"
      ],
      "metadata": {
        "id": "w1CxwGfsWvNF"
      },
      "execution_count": null,
      "outputs": []
    },
    {
      "cell_type": "code",
      "source": [
        "img=PILImage.create(upload.data[-1])\n",
        "pred, pred_id, probs = learn.predict(img)\n",
        "print(f\"Prediction:{pred}\")\n",
        "print(f\"Probability:{probs[pred_id]*100:.1f}%\")\n",
        "img"
      ],
      "metadata": {
        "id": "pzNj_SPCYPF7"
      },
      "execution_count": null,
      "outputs": []
    },
    {
      "cell_type": "code",
      "source": [],
      "metadata": {
        "id": "fAy_w8KZZpVq"
      },
      "execution_count": null,
      "outputs": []
    }
  ]
}